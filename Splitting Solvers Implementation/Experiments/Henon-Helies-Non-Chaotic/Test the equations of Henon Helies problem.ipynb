{
 "cells": [
  {
   "cell_type": "markdown",
   "id": "3a736578",
   "metadata": {},
   "source": [
    "# Test the equations of Henon Helies problem"
   ]
  },
  {
   "cell_type": "code",
   "execution_count": 1,
   "id": "ec41b35a",
   "metadata": {},
   "outputs": [],
   "source": [
    "using LinearAlgebra"
   ]
  },
  {
   "cell_type": "markdown",
   "id": "de3fca64",
   "metadata": {},
   "source": [
    "## Definition of the problem"
   ]
  },
  {
   "cell_type": "code",
   "execution_count": 2,
   "id": "b218fafc",
   "metadata": {},
   "outputs": [
    {
     "data": {
      "text/plain": [
       "flowH2HenonHeiles! (generic function with 1 method)"
      ]
     },
     "execution_count": 2,
     "metadata": {},
     "output_type": "execute_result"
    }
   ],
   "source": [
    "PATH_ODES=\"../../ODEProblems/\"\n",
    "include(string(PATH_ODES,\"HenonHeiles.jl\"))"
   ]
  },
  {
   "cell_type": "code",
   "execution_count": 3,
   "id": "38a6819c",
   "metadata": {},
   "outputs": [
    {
     "name": "stdout",
     "output_type": "stream",
     "text": [
      "Problem1: non-chaotic solution, H0=0.083333336\n"
     ]
    }
   ],
   "source": [
    "# Gemetric Numerical Integration 15.page\n",
    "\n",
    "q0=[0,3/10]\n",
    "p0=[0, 2/10]\n",
    "\n",
    "# Non-Chaotic solution H0=1/12\n",
    "\n",
    "H0=1/12\n",
    "U0=Potential_U(q0[1],q0[2])\n",
    "p0[1]=sqrt(2*H0-2*U0-p0[2]^2)\n",
    "p = []\n",
    "\n",
    "u0=vcat(q0,p0)\n",
    "u0_B=BigFloat.(u0)\n",
    "H0_1=HenonHeliesHam(u0_B)\n",
    "\n",
    "println(\"Problem1: non-chaotic solution, H0=\",Float32(H0_1))"
   ]
  },
  {
   "cell_type": "markdown",
   "id": "5417f117",
   "metadata": {},
   "source": [
    "## Checking equations of the flows"
   ]
  },
  {
   "cell_type": "code",
   "execution_count": 4,
   "id": "cc623901",
   "metadata": {},
   "outputs": [
    {
     "name": "stdout",
     "output_type": "stream",
     "text": [
      "norm(uj1 - uj) = 0.06798741496831184\n",
      "H1(uj1) / H1(uj) - 1.0 = 0.0\n"
     ]
    }
   ],
   "source": [
    "uj=rand(4)\n",
    "uj1=copy(uj)\n",
    "flowH1HenonHeiles!(uj1,[],0.1,[])\n",
    "@show(norm(uj1-uj))\n",
    "@show H1(uj1)/H1(uj)-1.;"
   ]
  },
  {
   "cell_type": "code",
   "execution_count": 5,
   "id": "4f3512a3",
   "metadata": {},
   "outputs": [
    {
     "name": "stdout",
     "output_type": "stream",
     "text": [
      "norm(uj1 - uj) = 0.18774952240049952\n",
      "H2(uj1) / H2(uj) - 1.0 = 0.0\n"
     ]
    }
   ],
   "source": [
    "uj=rand(4)\n",
    "uj1=copy(uj)\n",
    "flowH2HenonHeiles!(uj1,[],0.1,[])\n",
    "@show(norm(uj1-uj))\n",
    "@show H2(uj1)/H2(uj)-1.;"
   ]
  },
  {
   "cell_type": "code",
   "execution_count": null,
   "id": "0af282bb",
   "metadata": {},
   "outputs": [],
   "source": []
  }
 ],
 "metadata": {
  "kernelspec": {
   "display_name": "Julia 1.10.5",
   "language": "julia",
   "name": "julia-1.10"
  },
  "language_info": {
   "file_extension": ".jl",
   "mimetype": "application/julia",
   "name": "julia",
   "version": "1.10.5"
  }
 },
 "nbformat": 4,
 "nbformat_minor": 5
}
