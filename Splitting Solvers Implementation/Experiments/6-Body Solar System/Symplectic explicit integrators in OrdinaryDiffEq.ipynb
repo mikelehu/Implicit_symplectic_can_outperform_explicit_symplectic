{
 "cells": [
  {
   "cell_type": "markdown",
   "id": "671693be",
   "metadata": {},
   "source": [
    "# Symplectic explicit integrators in OrdinaryDiffEq"
   ]
  },
  {
   "cell_type": "markdown",
   "id": "a11f0bbb",
   "metadata": {},
   "source": [
    "## Loading packages and functions"
   ]
  },
  {
   "cell_type": "code",
   "execution_count": 1,
   "id": "998725e6",
   "metadata": {},
   "outputs": [],
   "source": [
    "using LinearAlgebra\n",
    "using Plots\n",
    "using OrdinaryDiffEq\n"
   ]
  },
  {
   "cell_type": "code",
   "execution_count": 2,
   "id": "b608f234",
   "metadata": {},
   "outputs": [
    {
     "data": {
      "text/plain": [
       "copysol2ndNbody (generic function with 1 method)"
      ]
     },
     "execution_count": 2,
     "metadata": {},
     "output_type": "execute_result"
    }
   ],
   "source": [
    "function copysol2ndNbody(u0,sol,prob,alg)\n",
    "   #    \n",
    "   #   return a copy of sol, converting sol.u to original u0's format \n",
    "   #\n",
    "   #    \n",
    "       n=length(sol.u)\n",
    "       ttype=eltype(sol.t)\n",
    "       uu=Vector{typeof(u0)}(undef,n)\n",
    "       tt=Vector{ttype}(undef,n)\n",
    "       uk=copy(u0)\n",
    "   \n",
    "       for k in 1:n\n",
    "            uk[:,:,1]=sol.u[k].x[2]\n",
    "            uk[:,:,2]=sol.u[k].x[1]\n",
    "            uu[k]=copy(uk)\n",
    "            tt[k]=sol.t[k]\n",
    "       end\n",
    "   \n",
    "       sol_new=DiffEqBase.build_solution(prob, alg, tt, uu, stats=sol.stats, retcode=sol.retcode)\n",
    "\n",
    "       return sol_new\n",
    "           \n",
    "   end"
   ]
  },
  {
   "cell_type": "markdown",
   "id": "0b9760aa",
   "metadata": {},
   "source": [
    "##### <a href=\"#top\">Back to the top</a>\n",
    "\n",
    "## Definition of the N-body problem\n",
    "\n",
    "In Nbody.jl below, the following functions are defined: NbodyEnergy(u,Gm), NbodyODE!(du,u,Gm,t), and NbodyODE1!(du,u,Gm,t), where\n",
    "\n",
    "\\begin{equation*}\n",
    "u = \n",
    "\\left(\\begin{matrix}\n",
    "q_1  & v_1\\\\\n",
    "\\vdots & \\vdots \\\\\n",
    "q_N  & v_N\n",
    "\\end{matrix}\n",
    "\\right) \\in \\mathbb{R}^{2 \\times 3\\times N}, \\quad\n",
    "Gm = (G\\,  m_1, \\ldots,G\\,  m_N) \\in \\mathbb{R}^N.\n",
    "\\end{equation*}"
   ]
  },
  {
   "cell_type": "markdown",
   "id": "86eeaf3d",
   "metadata": {},
   "source": [
    "The energy, as a function of the positions $q_1,\\ldots,q_N \\in \\mathbb{R}^3$ and the velocities $v_1,\\ldots,v_N \\in \\mathbb{R}^3$ of the $N$ bodies is:\n",
    "\\begin{equation*}\n",
    "\\begin{split}\n",
    "\\mathrm{Energy}(q_1,\\ldots,q_N,v_1,\\ldots,v_N) = \n",
    "\\frac12 \\sum_{i=1}^{N} m_i \\, \\|v_i\\|^2\n",
    "- G \\sum_{1\\leq i < j \\leq N} \\frac{m_i m_j}{\\|q_i-q_j\\|}.\n",
    "\\end{split}\n",
    "\\end{equation*}\n",
    "\n",
    "\n",
    "The ODE system of the N-body problem,\n",
    "as a function of the positions $q_1,\\ldots,q_N \\in \\mathbb{R}^3$ and the velocities $v_1,\\ldots,v_N \\in \\mathbb{R}^3$ of the $N$ bodies is:\n",
    "\\begin{equation*}\n",
    "\\begin{split}\n",
    "\\frac{d}{dt} q_i &= v_i, \\\\\n",
    "\\frac{d}{dt} v_i &= G\\, \n",
    "\\sum_{j \\neq i} \\frac{m_j}{\\|q_j-q_i\\|^3}\\,\n",
    "(q_j-q_i).\n",
    "\\end{split}\n",
    "\\end{equation*}\n",
    "This system of ODEs can be writen in compact form as\n",
    "\\begin{equation*}\n",
    "\\frac{d u}{dt} = f(t,u,Gm)\n",
    "\\end{equation*}"
   ]
  },
  {
   "cell_type": "code",
   "execution_count": 16,
   "id": "abd9254e",
   "metadata": {},
   "outputs": [
    {
     "data": {
      "text/plain": [
       "NbodyODE2nd! (generic function with 1 method)"
      ]
     },
     "execution_count": 16,
     "metadata": {},
     "output_type": "execute_result"
    }
   ],
   "source": [
    "PATH_IRKGL=\"../../../../IRKGaussLegendre.jl-master/IRKGaussLegendre.jl-master/\"\n",
    "PATH_ODES=string(PATH_IRKGL,\"ODEProblems/\")\n",
    "\n",
    "include(string(PATH_ODES,\"Initial6Body.jl\"))\n",
    "include(string(PATH_ODES,\"Nbody.jl\"))\n",
    "include(string(PATH_ODES,\"Nbody2nd.jl\"))"
   ]
  },
  {
   "cell_type": "markdown",
   "id": "18aa77db",
   "metadata": {},
   "source": [
    "### Initial value problem: 6-body problem (outer solar system)\n",
    "\n",
    "We consider $N=6$ bodies of the outer solar system: the Sun, Jupiter, Saturn, Uranus, Neptune and Pluto.\n",
    "The initial values $u_{00}$ are taken from DE430, Julian day (TDB) 2440400.5 (June 28, 1969). "
   ]
  },
  {
   "cell_type": "code",
   "execution_count": 17,
   "id": "b93c74bd",
   "metadata": {},
   "outputs": [
    {
     "name": "stdout",
     "output_type": "stream",
     "text": [
      "[\"Sun\" \"Jupiter\" \"Saturn\" \"Uranus\" \"Neptune\" \"Pluto\"]"
     ]
    },
    {
     "data": {
      "text/plain": [
       "-9.522620605966966e-12"
      ]
     },
     "execution_count": 17,
     "metadata": {},
     "output_type": "execute_result"
    }
   ],
   "source": [
    "u0, Gm, bodylist = Initial6Body(Float64)\n",
    "#u0_B, Gm_B, bodylist = Initial6Body(BigFloat)\n",
    "u0_B=BigFloat.(u0)\n",
    "Gm_B=BigFloat.(Gm)\n",
    "\n",
    "q0=u0[:,:,1]\n",
    "v0=u0[:,:,2]\n",
    "\n",
    "N = length(Gm)\n",
    "\n",
    "show(bodylist)\n",
    "E0=NbodyEnergy(u0,Gm)"
   ]
  },
  {
   "cell_type": "code",
   "execution_count": 18,
   "id": "b10d907a",
   "metadata": {},
   "outputs": [
    {
     "data": {
      "text/plain": [
       "([1.417048569677335e-18, 9.119357686204585e-20, 1.5082339679877506e-19], [1.0942040830907497e-22, -2.709864045560887e-22, 1.6237832716049163e-22])"
      ]
     },
     "execution_count": 18,
     "metadata": {},
     "output_type": "execute_result"
    }
   ],
   "source": [
    "# Testing: center of mass of the outer solar system at the origin of coordinates with zero velocity\n",
    "\n",
    "q0_ = zeros(3)\n",
    "v0_ = zeros(3)\n",
    "Gm0_ = 0.\n",
    "for i in 1:6\n",
    "    Gmi = Gm[i]\n",
    "    qi = u0[:,i,1]\n",
    "    vi = u0[:,i,2]\n",
    "    q0_ += Gmi*qi\n",
    "    v0_ += Gmi*vi\n",
    "    Gm0_ += Gmi\n",
    "end\n",
    "(q0_/Gm0_, v0_/Gm0_)"
   ]
  },
  {
   "cell_type": "code",
   "execution_count": 19,
   "id": "f2e032b0",
   "metadata": {},
   "outputs": [],
   "source": [
    "t0=0.\n",
    "tF=1e8   #1e9  # days\n",
    "\n",
    "tspan= (t0,tF)\n",
    "tspan_B=(BigFloat(t0),BigFloat(tF))\n",
    "\n",
    "prob = ODEProblem(NbodyODE!, u0,tspan , Gm)\n",
    "prob2nd = SecondOrderODEProblem(NbodyODE2nd!,v0,q0,(t0,tF),Gm);"
   ]
  },
  {
   "cell_type": "code",
   "execution_count": 20,
   "id": "f33d10d5",
   "metadata": {},
   "outputs": [
    {
     "data": {
      "text/plain": [
       "23022.90779325429"
      ]
     },
     "execution_count": 20,
     "metadata": {},
     "output_type": "execute_result"
    }
   ],
   "source": [
    "Jupiter_period = 11.9*365\n",
    "tF/Jupiter_period"
   ]
  },
  {
   "cell_type": "code",
   "execution_count": 21,
   "id": "99560305",
   "metadata": {},
   "outputs": [
    {
     "data": {
      "text/plain": [
       "273785.0787132101"
      ]
     },
     "execution_count": 21,
     "metadata": {},
     "output_type": "execute_result"
    }
   ],
   "source": [
    "year=365.25\n",
    "tF/year"
   ]
  },
  {
   "cell_type": "markdown",
   "id": "330d5cd8",
   "metadata": {},
   "source": [
    "## Integrations"
   ]
  },
  {
   "cell_type": "code",
   "execution_count": 22,
   "id": "bff7ae72",
   "metadata": {},
   "outputs": [
    {
     "name": "stdout",
     "output_type": "stream",
     "text": [
      "  3.535263 seconds (7.95 M allocations: 497.007 MiB, 5.08% gc time, 74.86% compilation time)\n"
     ]
    },
    {
     "data": {
      "text/plain": [
       "27779"
      ]
     },
     "execution_count": 22,
     "metadata": {},
     "output_type": "execute_result"
    }
   ],
   "source": [
    "dt0=20.\n",
    "\n",
    "dt1=18*dt0\n",
    "\n",
    "alg=SofSpa10()\n",
    "@time sol1=solve(prob2nd,alg,dt=dt1, saveat=dt1*10, adaptive=false)\n",
    "sol1_=copysol2ndNbody(u0,sol1,prob2nd,alg)\n",
    "\n",
    "sol1.retcode\n",
    "length(sol1.t)"
   ]
  },
  {
   "cell_type": "code",
   "execution_count": 23,
   "id": "8f806354",
   "metadata": {},
   "outputs": [
    {
     "name": "stdout",
     "output_type": "stream",
     "text": [
      "  2.102464 seconds (2.95 M allocations: 207.217 MiB, 12.14% gc time, 58.25% compilation time)\n"
     ]
    },
    {
     "data": {
      "text/plain": [
       "ReturnCode.Success = 1"
      ]
     },
     "execution_count": 23,
     "metadata": {},
     "output_type": "execute_result"
    }
   ],
   "source": [
    "alg=VelocityVerlet()\n",
    "@time sol2=solve(prob2nd,alg,dt=dt0, saveat=dt0*100, adaptive=false)\n",
    "sol2_=copysol2ndNbody(u0,sol2,prob2nd,alg)\n",
    "\n",
    "sol2.retcode"
   ]
  },
  {
   "cell_type": "code",
   "execution_count": 24,
   "id": "879a5bbc",
   "metadata": {},
   "outputs": [
    {
     "name": "stdout",
     "output_type": "stream",
     "text": [
      "  2.960004 seconds (2.83 M allocations: 198.540 MiB, 8.28% gc time, 41.56% compilation time)\n"
     ]
    },
    {
     "data": {
      "text/plain": [
       "ReturnCode.Success = 1"
      ]
     },
     "execution_count": 24,
     "metadata": {},
     "output_type": "execute_result"
    }
   ],
   "source": [
    "alg=VerletLeapfrog()\n",
    "@time sol3=solve(prob2nd,alg,dt=dt0, saveat=dt0*100, adaptive=false)\n",
    "sol3_=copysol2ndNbody(u0,sol3,prob2nd,alg)\n",
    "\n",
    "sol3.retcode"
   ]
  },
  {
   "cell_type": "markdown",
   "id": "19928190",
   "metadata": {},
   "source": [
    "<a href=\"#top\">Back to the top</a>\n",
    "\n",
    "## Errors in energy"
   ]
  },
  {
   "cell_type": "code",
   "execution_count": 25,
   "id": "9d47656a",
   "metadata": {},
   "outputs": [
    {
     "data": {
      "text/plain": [
       "ErrorEnergy (generic function with 1 method)"
      ]
     },
     "execution_count": 25,
     "metadata": {},
     "output_type": "execute_result"
    }
   ],
   "source": [
    "function ErrorEnergy(H0, Ham, sol, parms_B)\n",
    "\n",
    "    H = [Ham(BigFloat.(u),parms_B) for u in sol.u]\n",
    "    ΔH0 = @. Float64(abs(H/H0-1))\n",
    "    H_lerr = @. Float64(abs((H[2:end] / H[1:end-1]) - 1))\n",
    "   \n",
    "    return ΔH0, H_lerr\n",
    "\n",
    "end"
   ]
  },
  {
   "cell_type": "code",
   "execution_count": 26,
   "id": "dd27b23e",
   "metadata": {},
   "outputs": [
    {
     "data": {
      "text/plain": [
       "(1.722267648590549e-11, 1.3199907794471085e-11, 3.9075508721742704e-5, 4.135275742963417e-5, 3.907550860846496e-5, 4.135275741905887e-5)"
      ]
     },
     "execution_count": 26,
     "metadata": {},
     "output_type": "execute_result"
    }
   ],
   "source": [
    "u0_B = BigFloat.(u0)\n",
    "Gm_B = BigFloat.(Gm)\n",
    "H0=NbodyEnergy(u0_B,Gm_B)\n",
    "\n",
    "ΔH0_1, H_lerr_1=ErrorEnergy(H0, NbodyEnergy, sol1_, Gm_B)\n",
    "ΔH0_2, H_lerr_2=ErrorEnergy(H0, NbodyEnergy, sol2_, Gm_B)\n",
    "ΔH0_3, H_lerr_3=ErrorEnergy(H0, NbodyEnergy, sol3_, Gm_B)\n",
    "(maximum(ΔH0_1), maximum(H_lerr_1), maximum(ΔH0_2), maximum(H_lerr_2),  maximum(ΔH0_3), maximum(H_lerr_3))"
   ]
  },
  {
   "cell_type": "code",
   "execution_count": 27,
   "id": "4ec3916e",
   "metadata": {},
   "outputs": [
    {
     "data": {
      "image/png": "[encoded data removed]",
      "image/svg+xml": [
       "<?xml version=\"1.0\" encoding=\"utf-8\"?>\n",
       "<svg xmlns=\"http://www.w3.org/2000/svg\" xmlns:xlink=\"http://www.w3.org/1999/xlink\" width=\"600\" height=\"400\" viewBox=\"0 0 2400 1600\">\n",
       "<defs>\n",
       "  <clipPath id=\"clip540\">\n",
       "    <rect x=\"0\" y=\"0\" width=\"2400\" height=\"1600\"/>\n",
       "  </clipPath>\n",
       "</defs>\n",
       "<path clip-path=\"url(#clip540)\" d=\"M0 1600 L2400 1600 L2400 0 L0 0  Z\" fill=\"#ffffff\" fill-rule=\"evenodd\" fill-opacity=\"1\"/>\n",
       "<defs>\n",
       "  <clipPath id=\"clip541\">\n",
       "    <rect x=\"480\" y=\"0\" width=\"1681\" height=\"1600\"/>\n",
       "  </clipPath>\n",
       "</defs>\n",
       "<path clip-path=\"url(#clip540)\" d=\"M313.99 1410.9 L2352.76 1410.9 L2352.76 47.2441 L313.99 47.2441  Z\" fill=\"#ffffff\" fill-rule=\"evenodd\" fill-opacity=\"1\"/>\n",
       "<defs>\n",
       "  <clipPath id=\"clip542\">\n",
       "    <rect x=\"313\" y=\"47\" width=\"2040\" height=\"1365\"/>\n",
       "  </clipPath>\n",
       "</defs>\n",
       "<polyline clip-path=\"url(#clip542)\" style=\"stroke:#000000; stroke-linecap:round; stroke-linejoin:round; stroke-width:2; stroke-opacity:0.1; fill:none\" points=\"371.648,1410.9 371.648,47.2441 \"/>\n",
       "<polyline clip-path=\"url(#clip542)\" style=\"stroke:#000000; stroke-linecap:round; stroke-linejoin:round; stroke-width:2; stroke-opacity:0.1; fill:none\" points=\"799.055,1410.9 799.055,47.2441 \"/>\n",
       "<polyline clip-path=\"url(#clip542)\" style=\"stroke:#000000; stroke-linecap:round; stroke-linejoin:round; stroke-width:2; stroke-opacity:0.1; fill:none\" points=\"1226.46,1410.9 1226.46,47.2441 \"/>\n",
       "<polyline clip-path=\"url(#clip542)\" style=\"stroke:#000000; stroke-linecap:round; stroke-linejoin:round; stroke-width:2; stroke-opacity:0.1; fill:none\" points=\"1653.87,1410.9 1653.87,47.2441 \"/>\n",
       "<polyline clip-path=\"url(#clip542)\" style=\"stroke:#000000; stroke-linecap:round; stroke-linejoin:round; stroke-width:2; stroke-opacity:0.1; fill:none\" points=\"2081.27,1410.9 2081.27,47.2441 \"/>\n",
       "<polyline clip-path=\"url(#clip542)\" style=\"stroke:#000000; stroke-linecap:round; stroke-linejoin:round; stroke-width:2; stroke-opacity:0.1; fill:none\" points=\"313.99,964.446 2352.76,964.446 \"/>\n",
       "<polyline clip-path=\"url(#clip542)\" style=\"stroke:#000000; stroke-linecap:round; stroke-linejoin:round; stroke-width:2; stroke-opacity:0.1; fill:none\" points=\"313.99,172.331 2352.76,172.331 \"/>\n",
       "<polyline clip-path=\"url(#clip540)\" style=\"stroke:#000000; stroke-linecap:round; stroke-linejoin:round; stroke-width:4; stroke-opacity:1; fill:none\" points=\"313.99,1410.9 2352.76,1410.9 \"/>\n",
       "<polyline clip-path=\"url(#clip540)\" style=\"stroke:#000000; stroke-linecap:round; stroke-linejoin:round; stroke-width:4; stroke-opacity:1; fill:none\" points=\"371.648,1410.9 371.648,1392 \"/>\n",
       "<polyline clip-path=\"url(#clip540)\" style=\"stroke:#000000; stroke-linecap:round; stroke-linejoin:round; stroke-width:4; stroke-opacity:1; fill:none\" points=\"799.055,1410.9 799.055,1392 \"/>\n",
       "<polyline clip-path=\"url(#clip540)\" style=\"stroke:#000000; stroke-linecap:round; stroke-linejoin:round; stroke-width:4; stroke-opacity:1; fill:none\" points=\"1226.46,1410.9 1226.46,1392 \"/>\n",
       "<polyline clip-path=\"url(#clip540)\" style=\"stroke:#000000; stroke-linecap:round; stroke-linejoin:round; stroke-width:4; stroke-opacity:1; fill:none\" points=\"1653.87,1410.9 1653.87,1392 \"/>\n",
       "<polyline clip-path=\"url(#clip540)\" style=\"stroke:#000000; stroke-linecap:round; stroke-linejoin:round; stroke-width:4; stroke-opacity:1; fill:none\" points=\"2081.27,1410.9 2081.27,1392 \"/>\n",
       "<g clip-path=\"url(#clip540)\">\n",
       "<text style=\"fill:#000000; fill-opacity:1; font-family:Courier,Courier New,Lucida Sans Typewriter,Lucida Typewriter,monospace; font-size:60px; text-anchor:middle;\" transform=\"rotate(0, 371.648, 1473.39)\" x=\"371.648\" y=\"1473.39\">0</text>\n",
       "</g>\n",
       "<g clip-path=\"url(#clip540)\">\n",
       "<text style=\"fill:#000000; fill-opacity:1; font-family:Courier,Courier New,Lucida Sans Typewriter,Lucida Typewriter,monospace; font-size:60px; text-anchor:start;\" transform=\"rotate(0, 673.375, 1488.96)\" x=\"673.375\" y=\"1488.96\">2.0×10</text>\n",
       "</g>\n",
       "<g clip-path=\"url(#clip540)\">\n",
       "<text style=\"fill:#000000; fill-opacity:1; font-family:Courier,Courier New,Lucida Sans Typewriter,Lucida Typewriter,monospace; font-size:48px; text-anchor:start;\" transform=\"rotate(0, 894.756, 1461.55)\" x=\"894.756\" y=\"1461.55\">7</text>\n",
       "</g>\n",
       "<g clip-path=\"url(#clip540)\">\n",
       "<text style=\"fill:#000000; fill-opacity:1; font-family:Courier,Courier New,Lucida Sans Typewriter,Lucida Typewriter,monospace; font-size:60px; text-anchor:start;\" transform=\"rotate(0, 1100.78, 1488.96)\" x=\"1100.78\" y=\"1488.96\">4.0×10</text>\n",
       "</g>\n",
       "<g clip-path=\"url(#clip540)\">\n",
       "<text style=\"fill:#000000; fill-opacity:1; font-family:Courier,Courier New,Lucida Sans Typewriter,Lucida Typewriter,monospace; font-size:48px; text-anchor:start;\" transform=\"rotate(0, 1322.16, 1461.55)\" x=\"1322.16\" y=\"1461.55\">7</text>\n",
       "</g>\n",
       "<g clip-path=\"url(#clip540)\">\n",
       "<text style=\"fill:#000000; fill-opacity:1; font-family:Courier,Courier New,Lucida Sans Typewriter,Lucida Typewriter,monospace; font-size:60px; text-anchor:start;\" transform=\"rotate(0, 1528.19, 1488.96)\" x=\"1528.19\" y=\"1488.96\">6.0×10</text>\n",
       "</g>\n",
       "<g clip-path=\"url(#clip540)\">\n",
       "<text style=\"fill:#000000; fill-opacity:1; font-family:Courier,Courier New,Lucida Sans Typewriter,Lucida Typewriter,monospace; font-size:48px; text-anchor:start;\" transform=\"rotate(0, 1749.57, 1461.55)\" x=\"1749.57\" y=\"1461.55\">7</text>\n",
       "</g>\n",
       "<g clip-path=\"url(#clip540)\">\n",
       "<text style=\"fill:#000000; fill-opacity:1; font-family:Courier,Courier New,Lucida Sans Typewriter,Lucida Typewriter,monospace; font-size:60px; text-anchor:start;\" transform=\"rotate(0, 1955.59, 1488.96)\" x=\"1955.59\" y=\"1488.96\">8.0×10</text>\n",
       "</g>\n",
       "<g clip-path=\"url(#clip540)\">\n",
       "<text style=\"fill:#000000; fill-opacity:1; font-family:Courier,Courier New,Lucida Sans Typewriter,Lucida Typewriter,monospace; font-size:48px; text-anchor:start;\" transform=\"rotate(0, 2176.98, 1461.55)\" x=\"2176.98\" y=\"1461.55\">7</text>\n",
       "</g>\n",
       "<path clip-path=\"url(#clip540)\" d=\"M1321.29 1528.42 L1321.29 1538.54 L1333.36 1538.54 L1333.36 1543.09 L1321.29 1543.09 L1321.29 1562.44 Q1321.29 1566.8 1322.47 1568.04 Q1323.68 1569.28 1327.34 1569.28 L1333.36 1569.28 L1333.36 1574.19 L1327.34 1574.19 Q1320.56 1574.19 1317.98 1571.67 Q1315.41 1569.12 1315.41 1562.44 L1315.41 1543.09 L1311.11 1543.09 L1311.11 1538.54 L1315.41 1538.54 L1315.41 1528.42 L1321.29 1528.42 Z\" fill=\"#000000\" fill-rule=\"nonzero\" fill-opacity=\"1\" /><polyline clip-path=\"url(#clip540)\" style=\"stroke:#000000; stroke-linecap:round; stroke-linejoin:round; stroke-width:4; stroke-opacity:1; fill:none\" points=\"313.99,1410.9 313.99,47.2441 \"/>\n",
       "<polyline clip-path=\"url(#clip540)\" style=\"stroke:#000000; stroke-linecap:round; stroke-linejoin:round; stroke-width:4; stroke-opacity:1; fill:none\" points=\"313.99,964.446 332.887,964.446 \"/>\n",
       "<polyline clip-path=\"url(#clip540)\" style=\"stroke:#000000; stroke-linecap:round; stroke-linejoin:round; stroke-width:4; stroke-opacity:1; fill:none\" points=\"313.99,172.331 332.887,172.331 \"/>\n",
       "<g clip-path=\"url(#clip540)\">\n",
       "<text style=\"fill:#000000; fill-opacity:1; font-family:Courier,Courier New,Lucida Sans Typewriter,Lucida Typewriter,monospace; font-size:60px; text-anchor:start;\" transform=\"rotate(0, 114.26, 988.173)\" x=\"114.26\" y=\"988.173\">10</text>\n",
       "</g>\n",
       "<g clip-path=\"url(#clip540)\">\n",
       "<text style=\"fill:#000000; fill-opacity:1; font-family:Courier,Courier New,Lucida Sans Typewriter,Lucida Typewriter,monospace; font-size:48px; text-anchor:start;\" transform=\"rotate(0, 188.054, 960.763)\" x=\"188.054\" y=\"960.763\">−10</text>\n",
       "</g>\n",
       "<g clip-path=\"url(#clip540)\">\n",
       "<text style=\"fill:#000000; fill-opacity:1; font-family:Courier,Courier New,Lucida Sans Typewriter,Lucida Typewriter,monospace; font-size:60px; text-anchor:start;\" transform=\"rotate(0, 144.239, 196.059)\" x=\"144.239\" y=\"196.059\">10</text>\n",
       "</g>\n",
       "<g clip-path=\"url(#clip540)\">\n",
       "<text style=\"fill:#000000; fill-opacity:1; font-family:Courier,Courier New,Lucida Sans Typewriter,Lucida Typewriter,monospace; font-size:48px; text-anchor:start;\" transform=\"rotate(0, 218.032, 168.649)\" x=\"218.032\" y=\"168.649\">−5</text>\n",
       "</g>\n",
       "<path clip-path=\"url(#clip540)\" d=\"M14.479 839.786 L14.479 833.929 L64.0042 833.929 L64.0042 839.786 L14.479 839.786 Z\" fill=\"#000000\" fill-rule=\"nonzero\" fill-opacity=\"1\" /><path clip-path=\"url(#clip540)\" d=\"M32.4621 807.862 Q32.4621 812.573 36.1542 815.31 Q39.8145 818.047 46.212 818.047 Q52.6095 818.047 56.3017 815.342 Q59.9619 812.604 59.9619 807.862 Q59.9619 803.183 56.2698 800.446 Q52.5777 797.709 46.212 797.709 Q39.8781 797.709 36.186 800.446 Q32.4621 803.183 32.4621 807.862 M27.4968 807.862 Q27.4968 800.223 32.4621 795.863 Q37.4273 791.502 46.212 791.502 Q54.9649 791.502 59.9619 795.863 Q64.9272 800.223 64.9272 807.862 Q64.9272 815.533 59.9619 819.893 Q54.9649 824.222 46.212 824.222 Q37.4273 824.222 32.4621 819.893 Q27.4968 815.533 27.4968 807.862 Z\" fill=\"#000000\" fill-rule=\"nonzero\" fill-opacity=\"1\" /><path clip-path=\"url(#clip540)\" d=\"M45.7664 758.337 Q39.4007 758.337 35.8996 760.978 Q32.3984 763.588 32.3984 768.331 Q32.3984 773.041 35.8996 775.683 Q39.4007 778.293 45.7664 778.293 Q52.1003 778.293 55.6014 775.683 Q59.1026 773.041 59.1026 768.331 Q59.1026 763.588 55.6014 760.978 Q52.1003 758.337 45.7664 758.337 M59.58 752.48 Q68.683 752.48 73.1071 756.522 Q77.5631 760.565 77.5631 768.904 Q77.5631 771.991 77.0857 774.728 Q76.6401 777.466 75.6852 780.044 L69.9879 780.044 Q71.3884 777.466 72.0568 774.951 Q72.7252 772.437 72.7252 769.827 Q72.7252 764.066 69.7015 761.201 Q66.7096 758.337 60.6303 758.337 L57.7339 758.337 Q60.885 760.151 62.4446 762.984 Q64.0042 765.816 64.0042 769.763 Q64.0042 776.32 59.0071 780.33 Q54.01 784.341 45.7664 784.341 Q37.491 784.341 32.4939 780.33 Q27.4968 776.32 27.4968 769.763 Q27.4968 765.816 29.0564 762.984 Q30.616 760.151 33.7671 758.337 L28.3562 758.337 L28.3562 752.48 L59.58 752.48 Z\" fill=\"#000000\" fill-rule=\"nonzero\" fill-opacity=\"1\" /><path clip-path=\"url(#clip540)\" d=\"M58.5933 738.476 L58.5933 727.972 L22.3406 727.972 L24.6323 739.399 L18.7758 739.399 L16.4842 728.036 L16.4842 721.607 L58.5933 721.607 L58.5933 711.103 L64.0042 711.103 L64.0042 738.476 L58.5933 738.476 Z\" fill=\"#000000\" fill-rule=\"nonzero\" fill-opacity=\"1\" /><path clip-path=\"url(#clip540)\" d=\"M20.7174 684.367 Q20.7174 689.332 25.6189 691.847 Q30.4887 694.33 40.2919 694.33 Q50.0633 694.33 54.9649 691.847 Q59.8346 689.332 59.8346 684.367 Q59.8346 679.37 54.9649 676.887 Q50.0633 674.373 40.2919 674.373 Q30.4887 674.373 25.6189 676.887 Q20.7174 679.37 20.7174 684.367 M15.6248 684.367 Q15.6248 676.378 21.9587 672.177 Q28.2607 667.944 40.2919 667.944 Q52.2913 667.944 58.6251 672.177 Q64.9272 676.378 64.9272 684.367 Q64.9272 692.356 58.6251 696.589 Q52.2913 700.791 40.2919 700.791 Q28.2607 700.791 21.9587 696.589 Q15.6248 692.356 15.6248 684.367 Z\" fill=\"#000000\" fill-rule=\"nonzero\" fill-opacity=\"1\" /><path clip-path=\"url(#clip540)\" d=\"M14.5426 643.404 Q21.8632 647.669 29.0246 649.738 Q36.186 651.807 43.5384 651.807 Q50.8908 651.807 58.1159 649.738 Q65.3091 647.637 72.5979 643.404 L72.5979 648.496 Q65.1182 653.271 57.8931 655.658 Q50.668 658.013 43.5384 658.013 Q36.4406 658.013 29.2474 655.658 Q22.0542 653.303 14.5426 648.496 L14.5426 643.404 Z\" fill=\"#000000\" fill-rule=\"nonzero\" fill-opacity=\"1\" /><path clip-path=\"url(#clip540)\" d=\"M14.5426 632.964 L14.5426 627.872 Q22.0542 623.097 29.2474 620.742 Q36.4406 618.355 43.5384 618.355 Q50.668 618.355 57.8931 620.742 Q65.1182 623.097 72.5979 627.872 L72.5979 632.964 Q65.3091 628.731 58.1159 626.662 Q50.8908 624.561 43.5384 624.561 Q36.186 624.561 29.0246 626.662 Q21.8632 628.731 14.5426 632.964 Z\" fill=\"#000000\" fill-rule=\"nonzero\" fill-opacity=\"1\" /><polyline clip-path=\"url(#clip542)\" style=\"stroke:#009af9; stroke-linecap:round; stroke-linejoin:round; stroke-width:4; stroke-opacity:1; fill:none\" points=\"371.725,1239.41 756.391,1372.3 1141.06,1130.73 1525.72,1143.59 1910.39,1151.45 2295.05,1167.58 \"/>\n",
       "<polyline clip-path=\"url(#clip542)\" style=\"stroke:#e26f46; stroke-linecap:round; stroke-linejoin:round; stroke-width:4; stroke-opacity:1; fill:none\" points=\"371.691,89.76 585.394,139.703 799.097,251.523 1012.8,286.419 1226.5,160.717 1440.21,96.5857 1653.91,85.838 1867.61,124.781 2081.32,210.25 2295.02,257.38 \"/>\n",
       "<polyline clip-path=\"url(#clip542)\" style=\"stroke:#3da44d; stroke-linecap:round; stroke-linejoin:round; stroke-width:4; stroke-opacity:1; fill:none\" points=\"371.691,89.76 585.394,139.703 799.097,251.523 1012.8,286.419 1226.5,160.717 1440.21,96.5857 1653.91,85.838 1867.61,124.781 2081.32,210.25 2295.02,257.38 \"/>\n",
       "<path clip-path=\"url(#clip540)\" d=\"M1739.14 1365.44 L2284.8 1365.44 L2284.8 1158.08 L1739.14 1158.08  Z\" fill=\"#ffffff\" fill-rule=\"evenodd\" fill-opacity=\"1\"/>\n",
       "<polyline clip-path=\"url(#clip540)\" style=\"stroke:#000000; stroke-linecap:round; stroke-linejoin:round; stroke-width:4; stroke-opacity:1; fill:none\" points=\"1739.14,1365.44 2284.8,1365.44 2284.8,1158.08 1739.14,1158.08 1739.14,1365.44 \"/>\n",
       "<polyline clip-path=\"url(#clip540)\" style=\"stroke:#009af9; stroke-linecap:round; stroke-linejoin:round; stroke-width:4; stroke-opacity:1; fill:none\" points=\"1761.79,1209.92 1897.71,1209.92 \"/>\n",
       "<path clip-path=\"url(#clip540)\" d=\"M1942.61 1193.78 L1942.61 1198.34 Q1939.95 1197.06 1937.59 1196.44 Q1935.22 1195.81 1933.03 1195.81 Q1929.21 1195.81 1927.12 1197.29 Q1925.06 1198.78 1925.06 1201.51 Q1925.06 1203.8 1926.43 1204.98 Q1927.82 1206.14 1931.66 1206.85 L1934.48 1207.43 Q1939.72 1208.43 1942.19 1210.95 Q1944.69 1213.45 1944.69 1217.66 Q1944.69 1222.69 1941.31 1225.28 Q1937.96 1227.87 1931.45 1227.87 Q1929 1227.87 1926.22 1227.32 Q1923.47 1226.76 1920.5 1225.67 L1920.5 1220.86 Q1923.35 1222.46 1926.08 1223.27 Q1928.81 1224.08 1931.45 1224.08 Q1935.46 1224.08 1937.63 1222.5 Q1939.81 1220.93 1939.81 1218.01 Q1939.81 1215.47 1938.23 1214.03 Q1936.68 1212.6 1933.12 1211.88 L1930.27 1211.32 Q1925.04 1210.28 1922.7 1208.06 Q1920.36 1205.84 1920.36 1201.88 Q1920.36 1197.29 1923.58 1194.66 Q1926.82 1192.02 1932.49 1192.02 Q1934.92 1192.02 1937.45 1192.46 Q1939.97 1192.9 1942.61 1193.78 Z\" fill=\"#000000\" fill-rule=\"nonzero\" fill-opacity=\"1\" /><path clip-path=\"url(#clip540)\" d=\"M1961.84 1204.26 Q1958.42 1204.26 1956.43 1206.95 Q1954.44 1209.61 1954.44 1214.26 Q1954.44 1218.91 1956.4 1221.6 Q1958.4 1224.26 1961.84 1224.26 Q1965.25 1224.26 1967.24 1221.58 Q1969.23 1218.89 1969.23 1214.26 Q1969.23 1209.66 1967.24 1206.97 Q1965.25 1204.26 1961.84 1204.26 M1961.84 1200.65 Q1967.4 1200.65 1970.57 1204.26 Q1973.74 1207.87 1973.74 1214.26 Q1973.74 1220.63 1970.57 1224.26 Q1967.4 1227.87 1961.84 1227.87 Q1956.27 1227.87 1953.09 1224.26 Q1949.95 1220.63 1949.95 1214.26 Q1949.95 1207.87 1953.09 1204.26 Q1956.27 1200.65 1961.84 1200.65 Z\" fill=\"#000000\" fill-rule=\"nonzero\" fill-opacity=\"1\" /><path clip-path=\"url(#clip540)\" d=\"M1993.93 1191.18 L1993.93 1194.72 L1989.85 1194.72 Q1987.56 1194.72 1986.66 1195.65 Q1985.78 1196.58 1985.78 1198.98 L1985.78 1201.28 L1992.79 1201.28 L1992.79 1204.59 L1985.78 1204.59 L1985.78 1227.2 L1981.5 1227.2 L1981.5 1204.59 L1977.42 1204.59 L1977.42 1201.28 L1981.5 1201.28 L1981.5 1199.47 Q1981.5 1195.14 1983.51 1193.17 Q1985.53 1191.18 1989.9 1191.18 L1993.93 1191.18 Z\" fill=\"#000000\" fill-rule=\"nonzero\" fill-opacity=\"1\" /><path clip-path=\"url(#clip540)\" d=\"M2018.4 1193.78 L2018.4 1198.34 Q2015.73 1197.06 2013.37 1196.44 Q2011.01 1195.81 2008.81 1195.81 Q2004.99 1195.81 2002.91 1197.29 Q2000.85 1198.78 2000.85 1201.51 Q2000.85 1203.8 2002.21 1204.98 Q2003.6 1206.14 2007.45 1206.85 L2010.27 1207.43 Q2015.5 1208.43 2017.98 1210.95 Q2020.48 1213.45 2020.48 1217.66 Q2020.48 1222.69 2017.1 1225.28 Q2013.74 1227.87 2007.24 1227.87 Q2004.78 1227.87 2002.01 1227.32 Q1999.25 1226.76 1996.29 1225.67 L1996.29 1220.86 Q1999.14 1222.46 2001.87 1223.27 Q2004.6 1224.08 2007.24 1224.08 Q2011.24 1224.08 2013.42 1222.5 Q2015.59 1220.93 2015.59 1218.01 Q2015.59 1215.47 2014.02 1214.03 Q2012.47 1212.6 2008.9 1211.88 L2006.06 1211.32 Q2000.83 1210.28 1998.49 1208.06 Q1996.15 1205.84 1996.15 1201.88 Q1996.15 1197.29 1999.37 1194.66 Q2002.61 1192.02 2008.28 1192.02 Q2010.71 1192.02 2013.23 1192.46 Q2015.76 1192.9 2018.4 1193.78 Z\" fill=\"#000000\" fill-rule=\"nonzero\" fill-opacity=\"1\" /><path clip-path=\"url(#clip540)\" d=\"M2031.71 1223.31 L2031.71 1237.06 L2027.42 1237.06 L2027.42 1201.28 L2031.71 1201.28 L2031.71 1205.21 Q2033.05 1202.9 2035.09 1201.79 Q2037.15 1200.65 2039.99 1200.65 Q2044.71 1200.65 2047.65 1204.4 Q2050.62 1208.15 2050.62 1214.26 Q2050.62 1220.37 2047.65 1224.12 Q2044.71 1227.87 2039.99 1227.87 Q2037.15 1227.87 2035.09 1226.76 Q2033.05 1225.63 2031.71 1223.31 M2046.2 1214.26 Q2046.2 1209.56 2044.25 1206.9 Q2042.33 1204.22 2038.95 1204.22 Q2035.57 1204.22 2033.63 1206.9 Q2031.71 1209.56 2031.71 1214.26 Q2031.71 1218.96 2033.63 1221.65 Q2035.57 1224.31 2038.95 1224.31 Q2042.33 1224.31 2044.25 1221.65 Q2046.2 1218.96 2046.2 1214.26 Z\" fill=\"#000000\" fill-rule=\"nonzero\" fill-opacity=\"1\" /><path clip-path=\"url(#clip540)\" d=\"M2069.46 1214.17 Q2064.3 1214.17 2062.31 1215.35 Q2060.32 1216.53 2060.32 1219.38 Q2060.32 1221.65 2061.8 1222.99 Q2063.3 1224.31 2065.87 1224.31 Q2069.41 1224.31 2071.54 1221.81 Q2073.7 1219.28 2073.7 1215.12 L2073.7 1214.17 L2069.46 1214.17 M2077.96 1212.41 L2077.96 1227.2 L2073.7 1227.2 L2073.7 1223.27 Q2072.24 1225.63 2070.06 1226.76 Q2067.89 1227.87 2064.74 1227.87 Q2060.76 1227.87 2058.4 1225.65 Q2056.06 1223.41 2056.06 1219.66 Q2056.06 1215.28 2058.97 1213.06 Q2061.91 1210.84 2067.72 1210.84 L2073.7 1210.84 L2073.7 1210.42 Q2073.7 1207.48 2071.75 1205.88 Q2069.83 1204.26 2066.33 1204.26 Q2064.11 1204.26 2062.01 1204.79 Q2059.9 1205.33 2057.96 1206.39 L2057.96 1202.46 Q2060.29 1201.55 2062.49 1201.11 Q2064.69 1200.65 2066.77 1200.65 Q2072.4 1200.65 2075.18 1203.57 Q2077.96 1206.48 2077.96 1212.41 Z\" fill=\"#000000\" fill-rule=\"nonzero\" fill-opacity=\"1\" /><path clip-path=\"url(#clip540)\" d=\"M2088.14 1223.27 L2095.78 1223.27 L2095.78 1196.9 L2087.47 1198.57 L2087.47 1194.31 L2095.73 1192.64 L2100.41 1192.64 L2100.41 1223.27 L2108.05 1223.27 L2108.05 1227.2 L2088.14 1227.2 L2088.14 1223.27 Z\" fill=\"#000000\" fill-rule=\"nonzero\" fill-opacity=\"1\" /><path clip-path=\"url(#clip540)\" d=\"M2127.49 1195.72 Q2123.88 1195.72 2122.05 1199.29 Q2120.25 1202.83 2120.25 1209.96 Q2120.25 1217.06 2122.05 1220.63 Q2123.88 1224.17 2127.49 1224.17 Q2131.13 1224.17 2132.93 1220.63 Q2134.76 1217.06 2134.76 1209.96 Q2134.76 1202.83 2132.93 1199.29 Q2131.13 1195.72 2127.49 1195.72 M2127.49 1192.02 Q2133.3 1192.02 2136.36 1196.62 Q2139.44 1201.21 2139.44 1209.96 Q2139.44 1218.68 2136.36 1223.29 Q2133.3 1227.87 2127.49 1227.87 Q2121.68 1227.87 2118.6 1223.29 Q2115.55 1218.68 2115.55 1209.96 Q2115.55 1201.21 2118.6 1196.62 Q2121.68 1192.02 2127.49 1192.02 Z\" fill=\"#000000\" fill-rule=\"nonzero\" fill-opacity=\"1\" /><polyline clip-path=\"url(#clip540)\" style=\"stroke:#e26f46; stroke-linecap:round; stroke-linejoin:round; stroke-width:4; stroke-opacity:1; fill:none\" points=\"1761.79,1261.76 1897.71,1261.76 \"/>\n",
       "<path clip-path=\"url(#clip540)\" d=\"M1933.56 1279.04 L1920.36 1244.48 L1925.25 1244.48 L1936.2 1273.58 L1947.17 1244.48 L1952.03 1244.48 L1938.86 1279.04 L1933.56 1279.04 Z\" fill=\"#000000\" fill-rule=\"nonzero\" fill-opacity=\"1\" /><path clip-path=\"url(#clip540)\" d=\"M1975.39 1265.01 L1975.39 1267.1 L1955.8 1267.1 Q1956.08 1271.5 1958.44 1273.81 Q1960.83 1276.1 1965.06 1276.1 Q1967.52 1276.1 1969.81 1275.5 Q1972.12 1274.9 1974.39 1273.69 L1974.39 1277.72 Q1972.1 1278.69 1969.69 1279.2 Q1967.28 1279.71 1964.81 1279.71 Q1958.6 1279.71 1954.97 1276.1 Q1951.36 1272.49 1951.36 1266.33 Q1951.36 1259.97 1954.78 1256.24 Q1958.23 1252.49 1964.07 1252.49 Q1969.3 1252.49 1972.33 1255.87 Q1975.39 1259.23 1975.39 1265.01 M1971.13 1263.76 Q1971.08 1260.27 1969.16 1258.19 Q1967.26 1256.1 1964.11 1256.1 Q1960.55 1256.1 1958.4 1258.12 Q1956.27 1260.13 1955.94 1263.79 L1971.13 1263.76 Z\" fill=\"#000000\" fill-rule=\"nonzero\" fill-opacity=\"1\" /><path clip-path=\"url(#clip540)\" d=\"M1982.38 1243.02 L1986.64 1243.02 L1986.64 1279.04 L1982.38 1279.04 L1982.38 1243.02 Z\" fill=\"#000000\" fill-rule=\"nonzero\" fill-opacity=\"1\" /><path clip-path=\"url(#clip540)\" d=\"M2005.59 1256.1 Q2002.17 1256.1 2000.18 1258.79 Q1998.19 1261.45 1998.19 1266.1 Q1998.19 1270.75 2000.15 1273.44 Q2002.15 1276.1 2005.59 1276.1 Q2009 1276.1 2010.99 1273.42 Q2012.98 1270.73 2012.98 1266.1 Q2012.98 1261.5 2010.99 1258.81 Q2009 1256.1 2005.59 1256.1 M2005.59 1252.49 Q2011.15 1252.49 2014.32 1256.1 Q2017.49 1259.71 2017.49 1266.1 Q2017.49 1272.47 2014.32 1276.1 Q2011.15 1279.71 2005.59 1279.71 Q2000.02 1279.71 1996.84 1276.1 Q1993.7 1272.47 1993.7 1266.1 Q1993.7 1259.71 1996.84 1256.1 Q2000.02 1252.49 2005.59 1252.49 Z\" fill=\"#000000\" fill-rule=\"nonzero\" fill-opacity=\"1\" /><path clip-path=\"url(#clip540)\" d=\"M2043.21 1254.11 L2043.21 1258.09 Q2041.4 1257.1 2039.58 1256.61 Q2037.77 1256.1 2035.92 1256.1 Q2031.77 1256.1 2029.48 1258.74 Q2027.19 1261.36 2027.19 1266.1 Q2027.19 1270.85 2029.48 1273.49 Q2031.77 1276.1 2035.92 1276.1 Q2037.77 1276.1 2039.58 1275.62 Q2041.4 1275.11 2043.21 1274.11 L2043.21 1278.05 Q2041.43 1278.88 2039.51 1279.3 Q2037.61 1279.71 2035.46 1279.71 Q2029.6 1279.71 2026.15 1276.03 Q2022.7 1272.35 2022.7 1266.1 Q2022.7 1259.76 2026.17 1256.13 Q2029.67 1252.49 2035.73 1252.49 Q2037.7 1252.49 2039.58 1252.91 Q2041.45 1253.3 2043.21 1254.11 Z\" fill=\"#000000\" fill-rule=\"nonzero\" fill-opacity=\"1\" /><path clip-path=\"url(#clip540)\" d=\"M2050.62 1253.12 L2054.88 1253.12 L2054.88 1279.04 L2050.62 1279.04 L2050.62 1253.12 M2050.62 1243.02 L2054.88 1243.02 L2054.88 1248.42 L2050.62 1248.42 L2050.62 1243.02 Z\" fill=\"#000000\" fill-rule=\"nonzero\" fill-opacity=\"1\" /><path clip-path=\"url(#clip540)\" d=\"M2068 1245.75 L2068 1253.12 L2076.77 1253.12 L2076.77 1256.43 L2068 1256.43 L2068 1270.5 Q2068 1273.67 2068.86 1274.57 Q2069.74 1275.48 2072.4 1275.48 L2076.77 1275.48 L2076.77 1279.04 L2072.4 1279.04 Q2067.47 1279.04 2065.59 1277.21 Q2063.72 1275.36 2063.72 1270.5 L2063.72 1256.43 L2060.59 1256.43 L2060.59 1253.12 L2063.72 1253.12 L2063.72 1245.75 L2068 1245.75 Z\" fill=\"#000000\" fill-rule=\"nonzero\" fill-opacity=\"1\" /><path clip-path=\"url(#clip540)\" d=\"M2093.16 1281.45 Q2091.36 1286.08 2089.64 1287.49 Q2087.93 1288.9 2085.06 1288.9 L2081.66 1288.9 L2081.66 1285.34 L2084.16 1285.34 Q2085.92 1285.34 2086.89 1284.5 Q2087.86 1283.67 2089.04 1280.57 L2089.81 1278.62 L2079.32 1253.12 L2083.83 1253.12 L2091.94 1273.39 L2100.04 1253.12 L2104.55 1253.12 L2093.16 1281.45 Z\" fill=\"#000000\" fill-rule=\"nonzero\" fill-opacity=\"1\" /><path clip-path=\"url(#clip540)\" d=\"M2119.53 1279.04 L2106.33 1244.48 L2111.22 1244.48 L2122.17 1273.58 L2133.14 1244.48 L2138 1244.48 L2124.83 1279.04 L2119.53 1279.04 Z\" fill=\"#000000\" fill-rule=\"nonzero\" fill-opacity=\"1\" /><path clip-path=\"url(#clip540)\" d=\"M2161.36 1265.01 L2161.36 1267.1 L2141.77 1267.1 Q2142.05 1271.5 2144.41 1273.81 Q2146.8 1276.1 2151.03 1276.1 Q2153.49 1276.1 2155.78 1275.5 Q2158.09 1274.9 2160.36 1273.69 L2160.36 1277.72 Q2158.07 1278.69 2155.66 1279.2 Q2153.26 1279.71 2150.78 1279.71 Q2144.58 1279.71 2140.94 1276.1 Q2137.33 1272.49 2137.33 1266.33 Q2137.33 1259.97 2140.76 1256.24 Q2144.2 1252.49 2150.04 1252.49 Q2155.27 1252.49 2158.3 1255.87 Q2161.36 1259.23 2161.36 1265.01 M2157.1 1263.76 Q2157.05 1260.27 2155.13 1258.19 Q2153.23 1256.1 2150.08 1256.1 Q2146.52 1256.1 2144.37 1258.12 Q2142.24 1260.13 2141.91 1263.79 L2157.1 1263.76 Z\" fill=\"#000000\" fill-rule=\"nonzero\" fill-opacity=\"1\" /><path clip-path=\"url(#clip540)\" d=\"M2183.37 1257.1 Q2182.65 1256.68 2181.8 1256.5 Q2180.96 1256.29 2179.95 1256.29 Q2176.33 1256.29 2174.39 1258.65 Q2172.47 1260.99 2172.47 1265.38 L2172.47 1279.04 L2168.19 1279.04 L2168.19 1253.12 L2172.47 1253.12 L2172.47 1257.14 Q2173.81 1254.78 2175.96 1253.65 Q2178.12 1252.49 2181.2 1252.49 Q2181.64 1252.49 2182.17 1252.56 Q2182.7 1252.61 2183.35 1252.72 L2183.37 1257.1 Z\" fill=\"#000000\" fill-rule=\"nonzero\" fill-opacity=\"1\" /><path clip-path=\"url(#clip540)\" d=\"M2187.84 1243.02 L2192.1 1243.02 L2192.1 1279.04 L2187.84 1279.04 L2187.84 1243.02 Z\" fill=\"#000000\" fill-rule=\"nonzero\" fill-opacity=\"1\" /><path clip-path=\"url(#clip540)\" d=\"M2223.19 1265.01 L2223.19 1267.1 L2203.6 1267.1 Q2203.88 1271.5 2206.24 1273.81 Q2208.63 1276.1 2212.86 1276.1 Q2215.32 1276.1 2217.61 1275.5 Q2219.92 1274.9 2222.19 1273.69 L2222.19 1277.72 Q2219.9 1278.69 2217.49 1279.2 Q2215.08 1279.71 2212.61 1279.71 Q2206.4 1279.71 2202.77 1276.1 Q2199.16 1272.49 2199.16 1266.33 Q2199.16 1259.97 2202.58 1256.24 Q2206.03 1252.49 2211.87 1252.49 Q2217.1 1252.49 2220.13 1255.87 Q2223.19 1259.23 2223.19 1265.01 M2218.93 1263.76 Q2218.88 1260.27 2216.96 1258.19 Q2215.06 1256.1 2211.91 1256.1 Q2208.35 1256.1 2206.2 1258.12 Q2204.07 1260.13 2203.74 1263.79 L2218.93 1263.76 Z\" fill=\"#000000\" fill-rule=\"nonzero\" fill-opacity=\"1\" /><path clip-path=\"url(#clip540)\" d=\"M2234.39 1245.75 L2234.39 1253.12 L2243.16 1253.12 L2243.16 1256.43 L2234.39 1256.43 L2234.39 1270.5 Q2234.39 1273.67 2235.25 1274.57 Q2236.13 1275.48 2238.79 1275.48 L2243.16 1275.48 L2243.16 1279.04 L2238.79 1279.04 Q2233.86 1279.04 2231.98 1277.21 Q2230.11 1275.36 2230.11 1270.5 L2230.11 1256.43 L2226.98 1256.43 L2226.98 1253.12 L2230.11 1253.12 L2230.11 1245.75 L2234.39 1245.75 Z\" fill=\"#000000\" fill-rule=\"nonzero\" fill-opacity=\"1\" /><polyline clip-path=\"url(#clip540)\" style=\"stroke:#3da44d; stroke-linecap:round; stroke-linejoin:round; stroke-width:4; stroke-opacity:1; fill:none\" points=\"1761.79,1313.6 1897.71,1313.6 \"/>\n",
       "<path clip-path=\"url(#clip540)\" d=\"M1933.56 1330.88 L1920.36 1296.32 L1925.25 1296.32 L1936.2 1325.42 L1947.17 1296.32 L1952.03 1296.32 L1938.86 1330.88 L1933.56 1330.88 Z\" fill=\"#000000\" fill-rule=\"nonzero\" fill-opacity=\"1\" /><path clip-path=\"url(#clip540)\" d=\"M1975.39 1316.85 L1975.39 1318.94 L1955.8 1318.94 Q1956.08 1323.34 1958.44 1325.65 Q1960.83 1327.94 1965.06 1327.94 Q1967.52 1327.94 1969.81 1327.34 Q1972.12 1326.74 1974.39 1325.53 L1974.39 1329.56 Q1972.1 1330.53 1969.69 1331.04 Q1967.28 1331.55 1964.81 1331.55 Q1958.6 1331.55 1954.97 1327.94 Q1951.36 1324.33 1951.36 1318.17 Q1951.36 1311.81 1954.78 1308.08 Q1958.23 1304.33 1964.07 1304.33 Q1969.3 1304.33 1972.33 1307.71 Q1975.39 1311.07 1975.39 1316.85 M1971.13 1315.6 Q1971.08 1312.11 1969.16 1310.03 Q1967.26 1307.94 1964.11 1307.94 Q1960.55 1307.94 1958.4 1309.96 Q1956.27 1311.97 1955.94 1315.63 L1971.13 1315.6 Z\" fill=\"#000000\" fill-rule=\"nonzero\" fill-opacity=\"1\" /><path clip-path=\"url(#clip540)\" d=\"M1997.4 1308.94 Q1996.68 1308.52 1995.83 1308.34 Q1994.99 1308.13 1993.97 1308.13 Q1990.36 1308.13 1988.42 1310.49 Q1986.5 1312.83 1986.5 1317.22 L1986.5 1330.88 L1982.22 1330.88 L1982.22 1304.96 L1986.5 1304.96 L1986.5 1308.98 Q1987.84 1306.62 1989.99 1305.49 Q1992.15 1304.33 1995.22 1304.33 Q1995.66 1304.33 1996.2 1304.4 Q1996.73 1304.45 1997.38 1304.56 L1997.4 1308.94 Z\" fill=\"#000000\" fill-rule=\"nonzero\" fill-opacity=\"1\" /><path clip-path=\"url(#clip540)\" d=\"M2001.87 1294.86 L2006.13 1294.86 L2006.13 1330.88 L2001.87 1330.88 L2001.87 1294.86 Z\" fill=\"#000000\" fill-rule=\"nonzero\" fill-opacity=\"1\" /><path clip-path=\"url(#clip540)\" d=\"M2037.21 1316.85 L2037.21 1318.94 L2017.63 1318.94 Q2017.91 1323.34 2020.27 1325.65 Q2022.65 1327.94 2026.89 1327.94 Q2029.34 1327.94 2031.64 1327.34 Q2033.95 1326.74 2036.22 1325.53 L2036.22 1329.56 Q2033.93 1330.53 2031.52 1331.04 Q2029.11 1331.55 2026.64 1331.55 Q2020.43 1331.55 2016.8 1327.94 Q2013.19 1324.33 2013.19 1318.17 Q2013.19 1311.81 2016.61 1308.08 Q2020.06 1304.33 2025.9 1304.33 Q2031.13 1304.33 2034.16 1307.71 Q2037.21 1311.07 2037.21 1316.85 M2032.96 1315.6 Q2032.91 1312.11 2030.99 1310.03 Q2029.09 1307.94 2025.94 1307.94 Q2022.38 1307.94 2020.22 1309.96 Q2018.09 1311.97 2017.77 1315.63 L2032.96 1315.6 Z\" fill=\"#000000\" fill-rule=\"nonzero\" fill-opacity=\"1\" /><path clip-path=\"url(#clip540)\" d=\"M2048.42 1297.59 L2048.42 1304.96 L2057.19 1304.96 L2057.19 1308.27 L2048.42 1308.27 L2048.42 1322.34 Q2048.42 1325.51 2049.27 1326.41 Q2050.15 1327.32 2052.82 1327.32 L2057.19 1327.32 L2057.19 1330.88 L2052.82 1330.88 Q2047.89 1330.88 2046.01 1329.05 Q2044.14 1327.2 2044.14 1322.34 L2044.14 1308.27 L2041.01 1308.27 L2041.01 1304.96 L2044.14 1304.96 L2044.14 1297.59 L2048.42 1297.59 Z\" fill=\"#000000\" fill-rule=\"nonzero\" fill-opacity=\"1\" /><path clip-path=\"url(#clip540)\" d=\"M2062.98 1296.32 L2067.65 1296.32 L2067.65 1326.95 L2084.48 1326.95 L2084.48 1330.88 L2062.98 1330.88 L2062.98 1296.32 Z\" fill=\"#000000\" fill-rule=\"nonzero\" fill-opacity=\"1\" /><path clip-path=\"url(#clip540)\" d=\"M2110.55 1316.85 L2110.55 1318.94 L2090.96 1318.94 Q2091.24 1323.34 2093.6 1325.65 Q2095.99 1327.94 2100.22 1327.94 Q2102.68 1327.94 2104.97 1327.34 Q2107.28 1326.74 2109.55 1325.53 L2109.55 1329.56 Q2107.26 1330.53 2104.85 1331.04 Q2102.45 1331.55 2099.97 1331.55 Q2093.77 1331.55 2090.13 1327.94 Q2086.52 1324.33 2086.52 1318.17 Q2086.52 1311.81 2089.95 1308.08 Q2093.39 1304.33 2099.23 1304.33 Q2104.46 1304.33 2107.49 1307.71 Q2110.55 1311.07 2110.55 1316.85 M2106.29 1315.6 Q2106.24 1312.11 2104.32 1310.03 Q2102.42 1307.94 2099.27 1307.94 Q2095.71 1307.94 2093.56 1309.96 Q2091.43 1311.97 2091.1 1315.63 L2106.29 1315.6 Z\" fill=\"#000000\" fill-rule=\"nonzero\" fill-opacity=\"1\" /><path clip-path=\"url(#clip540)\" d=\"M2129.32 1317.85 Q2124.16 1317.85 2122.17 1319.03 Q2120.18 1320.21 2120.18 1323.06 Q2120.18 1325.33 2121.66 1326.67 Q2123.16 1327.99 2125.73 1327.99 Q2129.27 1327.99 2131.4 1325.49 Q2133.56 1322.96 2133.56 1318.8 L2133.56 1317.85 L2129.32 1317.85 M2137.82 1316.09 L2137.82 1330.88 L2133.56 1330.88 L2133.56 1326.95 Q2132.1 1329.31 2129.92 1330.44 Q2127.75 1331.55 2124.6 1331.55 Q2120.62 1331.55 2118.26 1329.33 Q2115.92 1327.09 2115.92 1323.34 Q2115.92 1318.96 2118.83 1316.74 Q2121.77 1314.52 2127.58 1314.52 L2133.56 1314.52 L2133.56 1314.1 Q2133.56 1311.16 2131.61 1309.56 Q2129.69 1307.94 2126.2 1307.94 Q2123.97 1307.94 2121.87 1308.47 Q2119.76 1309.01 2117.82 1310.07 L2117.82 1306.14 Q2120.15 1305.23 2122.35 1304.79 Q2124.55 1304.33 2126.64 1304.33 Q2132.26 1304.33 2135.04 1307.25 Q2137.82 1310.16 2137.82 1316.09 Z\" fill=\"#000000\" fill-rule=\"nonzero\" fill-opacity=\"1\" /><path clip-path=\"url(#clip540)\" d=\"M2150.71 1326.99 L2150.71 1340.74 L2146.43 1340.74 L2146.43 1304.96 L2150.71 1304.96 L2150.71 1308.89 Q2152.05 1306.58 2154.09 1305.47 Q2156.15 1304.33 2159 1304.33 Q2163.72 1304.33 2166.66 1308.08 Q2169.62 1311.83 2169.62 1317.94 Q2169.62 1324.05 2166.66 1327.8 Q2163.72 1331.55 2159 1331.55 Q2156.15 1331.55 2154.09 1330.44 Q2152.05 1329.31 2150.71 1326.99 M2165.2 1317.94 Q2165.2 1313.24 2163.26 1310.58 Q2161.33 1307.9 2157.95 1307.9 Q2154.58 1307.9 2152.63 1310.58 Q2150.71 1313.24 2150.71 1317.94 Q2150.71 1322.64 2152.63 1325.33 Q2154.58 1327.99 2157.95 1327.99 Q2161.33 1327.99 2163.26 1325.33 Q2165.2 1322.64 2165.2 1317.94 Z\" fill=\"#000000\" fill-rule=\"nonzero\" fill-opacity=\"1\" /><path clip-path=\"url(#clip540)\" d=\"M2189.81 1294.86 L2189.81 1298.4 L2185.73 1298.4 Q2183.44 1298.4 2182.54 1299.33 Q2181.66 1300.26 2181.66 1302.66 L2181.66 1304.96 L2188.67 1304.96 L2188.67 1308.27 L2181.66 1308.27 L2181.66 1330.88 L2177.38 1330.88 L2177.38 1308.27 L2173.3 1308.27 L2173.3 1304.96 L2177.38 1304.96 L2177.38 1303.15 Q2177.38 1298.82 2179.39 1296.85 Q2181.4 1294.86 2185.78 1294.86 L2189.81 1294.86 Z\" fill=\"#000000\" fill-rule=\"nonzero\" fill-opacity=\"1\" /><path clip-path=\"url(#clip540)\" d=\"M2208.39 1308.94 Q2207.68 1308.52 2206.82 1308.34 Q2205.99 1308.13 2204.97 1308.13 Q2201.36 1308.13 2199.41 1310.49 Q2197.49 1312.83 2197.49 1317.22 L2197.49 1330.88 L2193.21 1330.88 L2193.21 1304.96 L2197.49 1304.96 L2197.49 1308.98 Q2198.83 1306.62 2200.99 1305.49 Q2203.14 1304.33 2206.22 1304.33 Q2206.66 1304.33 2207.19 1304.4 Q2207.72 1304.45 2208.37 1304.56 L2208.39 1308.94 Z\" fill=\"#000000\" fill-rule=\"nonzero\" fill-opacity=\"1\" /><path clip-path=\"url(#clip540)\" d=\"M2221.87 1307.94 Q2218.44 1307.94 2216.45 1310.63 Q2214.46 1313.29 2214.46 1317.94 Q2214.46 1322.59 2216.43 1325.28 Q2218.42 1327.94 2221.87 1327.94 Q2225.27 1327.94 2227.26 1325.26 Q2229.25 1322.57 2229.25 1317.94 Q2229.25 1313.34 2227.26 1310.65 Q2225.27 1307.94 2221.87 1307.94 M2221.87 1304.33 Q2227.42 1304.33 2230.59 1307.94 Q2233.76 1311.55 2233.76 1317.94 Q2233.76 1324.31 2230.59 1327.94 Q2227.42 1331.55 2221.87 1331.55 Q2216.29 1331.55 2213.12 1327.94 Q2209.97 1324.31 2209.97 1317.94 Q2209.97 1311.55 2213.12 1307.94 Q2216.29 1304.33 2221.87 1304.33 Z\" fill=\"#000000\" fill-rule=\"nonzero\" fill-opacity=\"1\" /><path clip-path=\"url(#clip540)\" d=\"M2257.88 1317.62 Q2257.88 1312.99 2255.96 1310.44 Q2254.07 1307.9 2250.62 1307.9 Q2247.19 1307.9 2245.27 1310.44 Q2243.37 1312.99 2243.37 1317.62 Q2243.37 1322.22 2245.27 1324.77 Q2247.19 1327.32 2250.62 1327.32 Q2254.07 1327.32 2255.96 1324.77 Q2257.88 1322.22 2257.88 1317.62 M2262.14 1327.66 Q2262.14 1334.28 2259.2 1337.5 Q2256.26 1340.74 2250.2 1340.74 Q2247.95 1340.74 2245.96 1340.4 Q2243.97 1340.07 2242.1 1339.38 L2242.1 1335.23 Q2243.97 1336.25 2245.8 1336.74 Q2247.63 1337.22 2249.53 1337.22 Q2253.72 1337.22 2255.8 1335.03 Q2257.88 1332.85 2257.88 1328.43 L2257.88 1326.32 Q2256.57 1328.61 2254.51 1329.75 Q2252.45 1330.88 2249.57 1330.88 Q2244.81 1330.88 2241.89 1327.25 Q2238.97 1323.61 2238.97 1317.62 Q2238.97 1311.6 2241.89 1307.97 Q2244.81 1304.33 2249.57 1304.33 Q2252.45 1304.33 2254.51 1305.47 Q2256.57 1306.6 2257.88 1308.89 L2257.88 1304.96 L2262.14 1304.96 L2262.14 1327.66 Z\" fill=\"#000000\" fill-rule=\"nonzero\" fill-opacity=\"1\" /></svg>\n"
      ],
      "text/html": [
       "<?xml version=\"1.0\" encoding=\"utf-8\"?>\n",
       "<svg xmlns=\"http://www.w3.org/2000/svg\" xmlns:xlink=\"http://www.w3.org/1999/xlink\" width=\"600\" height=\"400\" viewBox=\"0 0 2400 1600\">\n",
       "<defs>\n",
       "  <clipPath id=\"clip590\">\n",
       "    <rect x=\"0\" y=\"0\" width=\"2400\" height=\"1600\"/>\n",
       "  </clipPath>\n",
       "</defs>\n",
       "<path clip-path=\"url(#clip590)\" d=\"M0 1600 L2400 1600 L2400 0 L0 0  Z\" fill=\"#ffffff\" fill-rule=\"evenodd\" fill-opacity=\"1\"/>\n",
       "<defs>\n",
       "  <clipPath id=\"clip591\">\n",
       "    <rect x=\"480\" y=\"0\" width=\"1681\" height=\"1600\"/>\n",
       "  </clipPath>\n",
       "</defs>\n",
       "<path clip-path=\"url(#clip590)\" d=\"M313.99 1410.9 L2352.76 1410.9 L2352.76 47.2441 L313.99 47.2441  Z\" fill=\"#ffffff\" fill-rule=\"evenodd\" fill-opacity=\"1\"/>\n",
       "<defs>\n",
       "  <clipPath id=\"clip592\">\n",
       "    <rect x=\"313\" y=\"47\" width=\"2040\" height=\"1365\"/>\n",
       "  </clipPath>\n",
       "</defs>\n",
       "<polyline clip-path=\"url(#clip592)\" style=\"stroke:#000000; stroke-linecap:round; stroke-linejoin:round; stroke-width:2; stroke-opacity:0.1; fill:none\" points=\"371.648,1410.9 371.648,47.2441 \"/>\n",
       "<polyline clip-path=\"url(#clip592)\" style=\"stroke:#000000; stroke-linecap:round; stroke-linejoin:round; stroke-width:2; stroke-opacity:0.1; fill:none\" points=\"799.055,1410.9 799.055,47.2441 \"/>\n",
       "<polyline clip-path=\"url(#clip592)\" style=\"stroke:#000000; stroke-linecap:round; stroke-linejoin:round; stroke-width:2; stroke-opacity:0.1; fill:none\" points=\"1226.46,1410.9 1226.46,47.2441 \"/>\n",
       "<polyline clip-path=\"url(#clip592)\" style=\"stroke:#000000; stroke-linecap:round; stroke-linejoin:round; stroke-width:2; stroke-opacity:0.1; fill:none\" points=\"1653.87,1410.9 1653.87,47.2441 \"/>\n",
       "<polyline clip-path=\"url(#clip592)\" style=\"stroke:#000000; stroke-linecap:round; stroke-linejoin:round; stroke-width:2; stroke-opacity:0.1; fill:none\" points=\"2081.27,1410.9 2081.27,47.2441 \"/>\n",
       "<polyline clip-path=\"url(#clip592)\" style=\"stroke:#000000; stroke-linecap:round; stroke-linejoin:round; stroke-width:2; stroke-opacity:0.1; fill:none\" points=\"313.99,964.446 2352.76,964.446 \"/>\n",
       "<polyline clip-path=\"url(#clip592)\" style=\"stroke:#000000; stroke-linecap:round; stroke-linejoin:round; stroke-width:2; stroke-opacity:0.1; fill:none\" points=\"313.99,172.331 2352.76,172.331 \"/>\n",
       "<polyline clip-path=\"url(#clip590)\" style=\"stroke:#000000; stroke-linecap:round; stroke-linejoin:round; stroke-width:4; stroke-opacity:1; fill:none\" points=\"313.99,1410.9 2352.76,1410.9 \"/>\n",
       "<polyline clip-path=\"url(#clip590)\" style=\"stroke:#000000; stroke-linecap:round; stroke-linejoin:round; stroke-width:4; stroke-opacity:1; fill:none\" points=\"371.648,1410.9 371.648,1392 \"/>\n",
       "<polyline clip-path=\"url(#clip590)\" style=\"stroke:#000000; stroke-linecap:round; stroke-linejoin:round; stroke-width:4; stroke-opacity:1; fill:none\" points=\"799.055,1410.9 799.055,1392 \"/>\n",
       "<polyline clip-path=\"url(#clip590)\" style=\"stroke:#000000; stroke-linecap:round; stroke-linejoin:round; stroke-width:4; stroke-opacity:1; fill:none\" points=\"1226.46,1410.9 1226.46,1392 \"/>\n",
       "<polyline clip-path=\"url(#clip590)\" style=\"stroke:#000000; stroke-linecap:round; stroke-linejoin:round; stroke-width:4; stroke-opacity:1; fill:none\" points=\"1653.87,1410.9 1653.87,1392 \"/>\n",
       "<polyline clip-path=\"url(#clip590)\" style=\"stroke:#000000; stroke-linecap:round; stroke-linejoin:round; stroke-width:4; stroke-opacity:1; fill:none\" points=\"2081.27,1410.9 2081.27,1392 \"/>\n",
       "<g clip-path=\"url(#clip590)\">\n",
       "<text style=\"fill:#000000; fill-opacity:1; font-family:Courier,Courier New,Lucida Sans Typewriter,Lucida Typewriter,monospace; font-size:60px; text-anchor:middle;\" transform=\"rotate(0, 371.648, 1473.39)\" x=\"371.648\" y=\"1473.39\">0</text>\n",
       "</g>\n",
       "<g clip-path=\"url(#clip590)\">\n",
       "<text style=\"fill:#000000; fill-opacity:1; font-family:Courier,Courier New,Lucida Sans Typewriter,Lucida Typewriter,monospace; font-size:60px; text-anchor:start;\" transform=\"rotate(0, 673.375, 1488.96)\" x=\"673.375\" y=\"1488.96\">2.0×10</text>\n",
       "</g>\n",
       "<g clip-path=\"url(#clip590)\">\n",
       "<text style=\"fill:#000000; fill-opacity:1; font-family:Courier,Courier New,Lucida Sans Typewriter,Lucida Typewriter,monospace; font-size:48px; text-anchor:start;\" transform=\"rotate(0, 894.756, 1461.55)\" x=\"894.756\" y=\"1461.55\">7</text>\n",
       "</g>\n",
       "<g clip-path=\"url(#clip590)\">\n",
       "<text style=\"fill:#000000; fill-opacity:1; font-family:Courier,Courier New,Lucida Sans Typewriter,Lucida Typewriter,monospace; font-size:60px; text-anchor:start;\" transform=\"rotate(0, 1100.78, 1488.96)\" x=\"1100.78\" y=\"1488.96\">4.0×10</text>\n",
       "</g>\n",
       "<g clip-path=\"url(#clip590)\">\n",
       "<text style=\"fill:#000000; fill-opacity:1; font-family:Courier,Courier New,Lucida Sans Typewriter,Lucida Typewriter,monospace; font-size:48px; text-anchor:start;\" transform=\"rotate(0, 1322.16, 1461.55)\" x=\"1322.16\" y=\"1461.55\">7</text>\n",
       "</g>\n",
       "<g clip-path=\"url(#clip590)\">\n",
       "<text style=\"fill:#000000; fill-opacity:1; font-family:Courier,Courier New,Lucida Sans Typewriter,Lucida Typewriter,monospace; font-size:60px; text-anchor:start;\" transform=\"rotate(0, 1528.19, 1488.96)\" x=\"1528.19\" y=\"1488.96\">6.0×10</text>\n",
       "</g>\n",
       "<g clip-path=\"url(#clip590)\">\n",
       "<text style=\"fill:#000000; fill-opacity:1; font-family:Courier,Courier New,Lucida Sans Typewriter,Lucida Typewriter,monospace; font-size:48px; text-anchor:start;\" transform=\"rotate(0, 1749.57, 1461.55)\" x=\"1749.57\" y=\"1461.55\">7</text>\n",
       "</g>\n",
       "<g clip-path=\"url(#clip590)\">\n",
       "<text style=\"fill:#000000; fill-opacity:1; font-family:Courier,Courier New,Lucida Sans Typewriter,Lucida Typewriter,monospace; font-size:60px; text-anchor:start;\" transform=\"rotate(0, 1955.59, 1488.96)\" x=\"1955.59\" y=\"1488.96\">8.0×10</text>\n",
       "</g>\n",
       "<g clip-path=\"url(#clip590)\">\n",
       "<text style=\"fill:#000000; fill-opacity:1; font-family:Courier,Courier New,Lucida Sans Typewriter,Lucida Typewriter,monospace; font-size:48px; text-anchor:start;\" transform=\"rotate(0, 2176.98, 1461.55)\" x=\"2176.98\" y=\"1461.55\">7</text>\n",
       "</g>\n",
       "<path clip-path=\"url(#clip590)\" d=\"M1321.29 1528.42 L1321.29 1538.54 L1333.36 1538.54 L1333.36 1543.09 L1321.29 1543.09 L1321.29 1562.44 Q1321.29 1566.8 1322.47 1568.04 Q1323.68 1569.28 1327.34 1569.28 L1333.36 1569.28 L1333.36 1574.19 L1327.34 1574.19 Q1320.56 1574.19 1317.98 1571.67 Q1315.41 1569.12 1315.41 1562.44 L1315.41 1543.09 L1311.11 1543.09 L1311.11 1538.54 L1315.41 1538.54 L1315.41 1528.42 L1321.29 1528.42 Z\" fill=\"#000000\" fill-rule=\"nonzero\" fill-opacity=\"1\" /><polyline clip-path=\"url(#clip590)\" style=\"stroke:#000000; stroke-linecap:round; stroke-linejoin:round; stroke-width:4; stroke-opacity:1; fill:none\" points=\"313.99,1410.9 313.99,47.2441 \"/>\n",
       "<polyline clip-path=\"url(#clip590)\" style=\"stroke:#000000; stroke-linecap:round; stroke-linejoin:round; stroke-width:4; stroke-opacity:1; fill:none\" points=\"313.99,964.446 332.887,964.446 \"/>\n",
       "<polyline clip-path=\"url(#clip590)\" style=\"stroke:#000000; stroke-linecap:round; stroke-linejoin:round; stroke-width:4; stroke-opacity:1; fill:none\" points=\"313.99,172.331 332.887,172.331 \"/>\n",
       "<g clip-path=\"url(#clip590)\">\n",
       "<text style=\"fill:#000000; fill-opacity:1; font-family:Courier,Courier New,Lucida Sans Typewriter,Lucida Typewriter,monospace; font-size:60px; text-anchor:start;\" transform=\"rotate(0, 114.26, 988.173)\" x=\"114.26\" y=\"988.173\">10</text>\n",
       "</g>\n",
       "<g clip-path=\"url(#clip590)\">\n",
       "<text style=\"fill:#000000; fill-opacity:1; font-family:Courier,Courier New,Lucida Sans Typewriter,Lucida Typewriter,monospace; font-size:48px; text-anchor:start;\" transform=\"rotate(0, 188.054, 960.763)\" x=\"188.054\" y=\"960.763\">−10</text>\n",
       "</g>\n",
       "<g clip-path=\"url(#clip590)\">\n",
       "<text style=\"fill:#000000; fill-opacity:1; font-family:Courier,Courier New,Lucida Sans Typewriter,Lucida Typewriter,monospace; font-size:60px; text-anchor:start;\" transform=\"rotate(0, 144.239, 196.059)\" x=\"144.239\" y=\"196.059\">10</text>\n",
       "</g>\n",
       "<g clip-path=\"url(#clip590)\">\n",
       "<text style=\"fill:#000000; fill-opacity:1; font-family:Courier,Courier New,Lucida Sans Typewriter,Lucida Typewriter,monospace; font-size:48px; text-anchor:start;\" transform=\"rotate(0, 218.032, 168.649)\" x=\"218.032\" y=\"168.649\">−5</text>\n",
       "</g>\n",
       "<path clip-path=\"url(#clip590)\" d=\"M14.479 839.786 L14.479 833.929 L64.0042 833.929 L64.0042 839.786 L14.479 839.786 Z\" fill=\"#000000\" fill-rule=\"nonzero\" fill-opacity=\"1\" /><path clip-path=\"url(#clip590)\" d=\"M32.4621 807.862 Q32.4621 812.573 36.1542 815.31 Q39.8145 818.047 46.212 818.047 Q52.6095 818.047 56.3017 815.342 Q59.9619 812.604 59.9619 807.862 Q59.9619 803.183 56.2698 800.446 Q52.5777 797.709 46.212 797.709 Q39.8781 797.709 36.186 800.446 Q32.4621 803.183 32.4621 807.862 M27.4968 807.862 Q27.4968 800.223 32.4621 795.863 Q37.4273 791.502 46.212 791.502 Q54.9649 791.502 59.9619 795.863 Q64.9272 800.223 64.9272 807.862 Q64.9272 815.533 59.9619 819.893 Q54.9649 824.222 46.212 824.222 Q37.4273 824.222 32.4621 819.893 Q27.4968 815.533 27.4968 807.862 Z\" fill=\"#000000\" fill-rule=\"nonzero\" fill-opacity=\"1\" /><path clip-path=\"url(#clip590)\" d=\"M45.7664 758.337 Q39.4007 758.337 35.8996 760.978 Q32.3984 763.588 32.3984 768.331 Q32.3984 773.041 35.8996 775.683 Q39.4007 778.293 45.7664 778.293 Q52.1003 778.293 55.6014 775.683 Q59.1026 773.041 59.1026 768.331 Q59.1026 763.588 55.6014 760.978 Q52.1003 758.337 45.7664 758.337 M59.58 752.48 Q68.683 752.48 73.1071 756.522 Q77.5631 760.565 77.5631 768.904 Q77.5631 771.991 77.0857 774.728 Q76.6401 777.466 75.6852 780.044 L69.9879 780.044 Q71.3884 777.466 72.0568 774.951 Q72.7252 772.437 72.7252 769.827 Q72.7252 764.066 69.7015 761.201 Q66.7096 758.337 60.6303 758.337 L57.7339 758.337 Q60.885 760.151 62.4446 762.984 Q64.0042 765.816 64.0042 769.763 Q64.0042 776.32 59.0071 780.33 Q54.01 784.341 45.7664 784.341 Q37.491 784.341 32.4939 780.33 Q27.4968 776.32 27.4968 769.763 Q27.4968 765.816 29.0564 762.984 Q30.616 760.151 33.7671 758.337 L28.3562 758.337 L28.3562 752.48 L59.58 752.48 Z\" fill=\"#000000\" fill-rule=\"nonzero\" fill-opacity=\"1\" /><path clip-path=\"url(#clip590)\" d=\"M58.5933 738.476 L58.5933 727.972 L22.3406 727.972 L24.6323 739.399 L18.7758 739.399 L16.4842 728.036 L16.4842 721.607 L58.5933 721.607 L58.5933 711.103 L64.0042 711.103 L64.0042 738.476 L58.5933 738.476 Z\" fill=\"#000000\" fill-rule=\"nonzero\" fill-opacity=\"1\" /><path clip-path=\"url(#clip590)\" d=\"M20.7174 684.367 Q20.7174 689.332 25.6189 691.847 Q30.4887 694.33 40.2919 694.33 Q50.0633 694.33 54.9649 691.847 Q59.8346 689.332 59.8346 684.367 Q59.8346 679.37 54.9649 676.887 Q50.0633 674.373 40.2919 674.373 Q30.4887 674.373 25.6189 676.887 Q20.7174 679.37 20.7174 684.367 M15.6248 684.367 Q15.6248 676.378 21.9587 672.177 Q28.2607 667.944 40.2919 667.944 Q52.2913 667.944 58.6251 672.177 Q64.9272 676.378 64.9272 684.367 Q64.9272 692.356 58.6251 696.589 Q52.2913 700.791 40.2919 700.791 Q28.2607 700.791 21.9587 696.589 Q15.6248 692.356 15.6248 684.367 Z\" fill=\"#000000\" fill-rule=\"nonzero\" fill-opacity=\"1\" /><path clip-path=\"url(#clip590)\" d=\"M14.5426 643.404 Q21.8632 647.669 29.0246 649.738 Q36.186 651.807 43.5384 651.807 Q50.8908 651.807 58.1159 649.738 Q65.3091 647.637 72.5979 643.404 L72.5979 648.496 Q65.1182 653.271 57.8931 655.658 Q50.668 658.013 43.5384 658.013 Q36.4406 658.013 29.2474 655.658 Q22.0542 653.303 14.5426 648.496 L14.5426 643.404 Z\" fill=\"#000000\" fill-rule=\"nonzero\" fill-opacity=\"1\" /><path clip-path=\"url(#clip590)\" d=\"M14.5426 632.964 L14.5426 627.872 Q22.0542 623.097 29.2474 620.742 Q36.4406 618.355 43.5384 618.355 Q50.668 618.355 57.8931 620.742 Q65.1182 623.097 72.5979 627.872 L72.5979 632.964 Q65.3091 628.731 58.1159 626.662 Q50.8908 624.561 43.5384 624.561 Q36.186 624.561 29.0246 626.662 Q21.8632 628.731 14.5426 632.964 Z\" fill=\"#000000\" fill-rule=\"nonzero\" fill-opacity=\"1\" /><polyline clip-path=\"url(#clip592)\" style=\"stroke:#009af9; stroke-linecap:round; stroke-linejoin:round; stroke-width:4; stroke-opacity:1; fill:none\" points=\"371.725,1239.41 756.391,1372.3 1141.06,1130.73 1525.72,1143.59 1910.39,1151.45 2295.05,1167.58 \"/>\n",
       "<polyline clip-path=\"url(#clip592)\" style=\"stroke:#e26f46; stroke-linecap:round; stroke-linejoin:round; stroke-width:4; stroke-opacity:1; fill:none\" points=\"371.691,89.76 585.394,139.703 799.097,251.523 1012.8,286.419 1226.5,160.717 1440.21,96.5857 1653.91,85.838 1867.61,124.781 2081.32,210.25 2295.02,257.38 \"/>\n",
       "<polyline clip-path=\"url(#clip592)\" style=\"stroke:#3da44d; stroke-linecap:round; stroke-linejoin:round; stroke-width:4; stroke-opacity:1; fill:none\" points=\"371.691,89.76 585.394,139.703 799.097,251.523 1012.8,286.419 1226.5,160.717 1440.21,96.5857 1653.91,85.838 1867.61,124.781 2081.32,210.25 2295.02,257.38 \"/>\n",
       "<path clip-path=\"url(#clip590)\" d=\"M1739.14 1365.44 L2284.8 1365.44 L2284.8 1158.08 L1739.14 1158.08  Z\" fill=\"#ffffff\" fill-rule=\"evenodd\" fill-opacity=\"1\"/>\n",
       "<polyline clip-path=\"url(#clip590)\" style=\"stroke:#000000; stroke-linecap:round; stroke-linejoin:round; stroke-width:4; stroke-opacity:1; fill:none\" points=\"1739.14,1365.44 2284.8,1365.44 2284.8,1158.08 1739.14,1158.08 1739.14,1365.44 \"/>\n",
       "<polyline clip-path=\"url(#clip590)\" style=\"stroke:#009af9; stroke-linecap:round; stroke-linejoin:round; stroke-width:4; stroke-opacity:1; fill:none\" points=\"1761.79,1209.92 1897.71,1209.92 \"/>\n",
       "<path clip-path=\"url(#clip590)\" d=\"M1942.61 1193.78 L1942.61 1198.34 Q1939.95 1197.06 1937.59 1196.44 Q1935.22 1195.81 1933.03 1195.81 Q1929.21 1195.81 1927.12 1197.29 Q1925.06 1198.78 1925.06 1201.51 Q1925.06 1203.8 1926.43 1204.98 Q1927.82 1206.14 1931.66 1206.85 L1934.48 1207.43 Q1939.72 1208.43 1942.19 1210.95 Q1944.69 1213.45 1944.69 1217.66 Q1944.69 1222.69 1941.31 1225.28 Q1937.96 1227.87 1931.45 1227.87 Q1929 1227.87 1926.22 1227.32 Q1923.47 1226.76 1920.5 1225.67 L1920.5 1220.86 Q1923.35 1222.46 1926.08 1223.27 Q1928.81 1224.08 1931.45 1224.08 Q1935.46 1224.08 1937.63 1222.5 Q1939.81 1220.93 1939.81 1218.01 Q1939.81 1215.47 1938.23 1214.03 Q1936.68 1212.6 1933.12 1211.88 L1930.27 1211.32 Q1925.04 1210.28 1922.7 1208.06 Q1920.36 1205.84 1920.36 1201.88 Q1920.36 1197.29 1923.58 1194.66 Q1926.82 1192.02 1932.49 1192.02 Q1934.92 1192.02 1937.45 1192.46 Q1939.97 1192.9 1942.61 1193.78 Z\" fill=\"#000000\" fill-rule=\"nonzero\" fill-opacity=\"1\" /><path clip-path=\"url(#clip590)\" d=\"M1961.84 1204.26 Q1958.42 1204.26 1956.43 1206.95 Q1954.44 1209.61 1954.44 1214.26 Q1954.44 1218.91 1956.4 1221.6 Q1958.4 1224.26 1961.84 1224.26 Q1965.25 1224.26 1967.24 1221.58 Q1969.23 1218.89 1969.23 1214.26 Q1969.23 1209.66 1967.24 1206.97 Q1965.25 1204.26 1961.84 1204.26 M1961.84 1200.65 Q1967.4 1200.65 1970.57 1204.26 Q1973.74 1207.87 1973.74 1214.26 Q1973.74 1220.63 1970.57 1224.26 Q1967.4 1227.87 1961.84 1227.87 Q1956.27 1227.87 1953.09 1224.26 Q1949.95 1220.63 1949.95 1214.26 Q1949.95 1207.87 1953.09 1204.26 Q1956.27 1200.65 1961.84 1200.65 Z\" fill=\"#000000\" fill-rule=\"nonzero\" fill-opacity=\"1\" /><path clip-path=\"url(#clip590)\" d=\"M1993.93 1191.18 L1993.93 1194.72 L1989.85 1194.72 Q1987.56 1194.72 1986.66 1195.65 Q1985.78 1196.58 1985.78 1198.98 L1985.78 1201.28 L1992.79 1201.28 L1992.79 1204.59 L1985.78 1204.59 L1985.78 1227.2 L1981.5 1227.2 L1981.5 1204.59 L1977.42 1204.59 L1977.42 1201.28 L1981.5 1201.28 L1981.5 1199.47 Q1981.5 1195.14 1983.51 1193.17 Q1985.53 1191.18 1989.9 1191.18 L1993.93 1191.18 Z\" fill=\"#000000\" fill-rule=\"nonzero\" fill-opacity=\"1\" /><path clip-path=\"url(#clip590)\" d=\"M2018.4 1193.78 L2018.4 1198.34 Q2015.73 1197.06 2013.37 1196.44 Q2011.01 1195.81 2008.81 1195.81 Q2004.99 1195.81 2002.91 1197.29 Q2000.85 1198.78 2000.85 1201.51 Q2000.85 1203.8 2002.21 1204.98 Q2003.6 1206.14 2007.45 1206.85 L2010.27 1207.43 Q2015.5 1208.43 2017.98 1210.95 Q2020.48 1213.45 2020.48 1217.66 Q2020.48 1222.69 2017.1 1225.28 Q2013.74 1227.87 2007.24 1227.87 Q2004.78 1227.87 2002.01 1227.32 Q1999.25 1226.76 1996.29 1225.67 L1996.29 1220.86 Q1999.14 1222.46 2001.87 1223.27 Q2004.6 1224.08 2007.24 1224.08 Q2011.24 1224.08 2013.42 1222.5 Q2015.59 1220.93 2015.59 1218.01 Q2015.59 1215.47 2014.02 1214.03 Q2012.47 1212.6 2008.9 1211.88 L2006.06 1211.32 Q2000.83 1210.28 1998.49 1208.06 Q1996.15 1205.84 1996.15 1201.88 Q1996.15 1197.29 1999.37 1194.66 Q2002.61 1192.02 2008.28 1192.02 Q2010.71 1192.02 2013.23 1192.46 Q2015.76 1192.9 2018.4 1193.78 Z\" fill=\"#000000\" fill-rule=\"nonzero\" fill-opacity=\"1\" /><path clip-path=\"url(#clip590)\" d=\"M2031.71 1223.31 L2031.71 1237.06 L2027.42 1237.06 L2027.42 1201.28 L2031.71 1201.28 L2031.71 1205.21 Q2033.05 1202.9 2035.09 1201.79 Q2037.15 1200.65 2039.99 1200.65 Q2044.71 1200.65 2047.65 1204.4 Q2050.62 1208.15 2050.62 1214.26 Q2050.62 1220.37 2047.65 1224.12 Q2044.71 1227.87 2039.99 1227.87 Q2037.15 1227.87 2035.09 1226.76 Q2033.05 1225.63 2031.71 1223.31 M2046.2 1214.26 Q2046.2 1209.56 2044.25 1206.9 Q2042.33 1204.22 2038.95 1204.22 Q2035.57 1204.22 2033.63 1206.9 Q2031.71 1209.56 2031.71 1214.26 Q2031.71 1218.96 2033.63 1221.65 Q2035.57 1224.31 2038.95 1224.31 Q2042.33 1224.31 2044.25 1221.65 Q2046.2 1218.96 2046.2 1214.26 Z\" fill=\"#000000\" fill-rule=\"nonzero\" fill-opacity=\"1\" /><path clip-path=\"url(#clip590)\" d=\"M2069.46 1214.17 Q2064.3 1214.17 2062.31 1215.35 Q2060.32 1216.53 2060.32 1219.38 Q2060.32 1221.65 2061.8 1222.99 Q2063.3 1224.31 2065.87 1224.31 Q2069.41 1224.31 2071.54 1221.81 Q2073.7 1219.28 2073.7 1215.12 L2073.7 1214.17 L2069.46 1214.17 M2077.96 1212.41 L2077.96 1227.2 L2073.7 1227.2 L2073.7 1223.27 Q2072.24 1225.63 2070.06 1226.76 Q2067.89 1227.87 2064.74 1227.87 Q2060.76 1227.87 2058.4 1225.65 Q2056.06 1223.41 2056.06 1219.66 Q2056.06 1215.28 2058.97 1213.06 Q2061.91 1210.84 2067.72 1210.84 L2073.7 1210.84 L2073.7 1210.42 Q2073.7 1207.48 2071.75 1205.88 Q2069.83 1204.26 2066.33 1204.26 Q2064.11 1204.26 2062.01 1204.79 Q2059.9 1205.33 2057.96 1206.39 L2057.96 1202.46 Q2060.29 1201.55 2062.49 1201.11 Q2064.69 1200.65 2066.77 1200.65 Q2072.4 1200.65 2075.18 1203.57 Q2077.96 1206.48 2077.96 1212.41 Z\" fill=\"#000000\" fill-rule=\"nonzero\" fill-opacity=\"1\" /><path clip-path=\"url(#clip590)\" d=\"M2088.14 1223.27 L2095.78 1223.27 L2095.78 1196.9 L2087.47 1198.57 L2087.47 1194.31 L2095.73 1192.64 L2100.41 1192.64 L2100.41 1223.27 L2108.05 1223.27 L2108.05 1227.2 L2088.14 1227.2 L2088.14 1223.27 Z\" fill=\"#000000\" fill-rule=\"nonzero\" fill-opacity=\"1\" /><path clip-path=\"url(#clip590)\" d=\"M2127.49 1195.72 Q2123.88 1195.72 2122.05 1199.29 Q2120.25 1202.83 2120.25 1209.96 Q2120.25 1217.06 2122.05 1220.63 Q2123.88 1224.17 2127.49 1224.17 Q2131.13 1224.17 2132.93 1220.63 Q2134.76 1217.06 2134.76 1209.96 Q2134.76 1202.83 2132.93 1199.29 Q2131.13 1195.72 2127.49 1195.72 M2127.49 1192.02 Q2133.3 1192.02 2136.36 1196.62 Q2139.44 1201.21 2139.44 1209.96 Q2139.44 1218.68 2136.36 1223.29 Q2133.3 1227.87 2127.49 1227.87 Q2121.68 1227.87 2118.6 1223.29 Q2115.55 1218.68 2115.55 1209.96 Q2115.55 1201.21 2118.6 1196.62 Q2121.68 1192.02 2127.49 1192.02 Z\" fill=\"#000000\" fill-rule=\"nonzero\" fill-opacity=\"1\" /><polyline clip-path=\"url(#clip590)\" style=\"stroke:#e26f46; stroke-linecap:round; stroke-linejoin:round; stroke-width:4; stroke-opacity:1; fill:none\" points=\"1761.79,1261.76 1897.71,1261.76 \"/>\n",
       "<path clip-path=\"url(#clip590)\" d=\"M1933.56 1279.04 L1920.36 1244.48 L1925.25 1244.48 L1936.2 1273.58 L1947.17 1244.48 L1952.03 1244.48 L1938.86 1279.04 L1933.56 1279.04 Z\" fill=\"#000000\" fill-rule=\"nonzero\" fill-opacity=\"1\" /><path clip-path=\"url(#clip590)\" d=\"M1975.39 1265.01 L1975.39 1267.1 L1955.8 1267.1 Q1956.08 1271.5 1958.44 1273.81 Q1960.83 1276.1 1965.06 1276.1 Q1967.52 1276.1 1969.81 1275.5 Q1972.12 1274.9 1974.39 1273.69 L1974.39 1277.72 Q1972.1 1278.69 1969.69 1279.2 Q1967.28 1279.71 1964.81 1279.71 Q1958.6 1279.71 1954.97 1276.1 Q1951.36 1272.49 1951.36 1266.33 Q1951.36 1259.97 1954.78 1256.24 Q1958.23 1252.49 1964.07 1252.49 Q1969.3 1252.49 1972.33 1255.87 Q1975.39 1259.23 1975.39 1265.01 M1971.13 1263.76 Q1971.08 1260.27 1969.16 1258.19 Q1967.26 1256.1 1964.11 1256.1 Q1960.55 1256.1 1958.4 1258.12 Q1956.27 1260.13 1955.94 1263.79 L1971.13 1263.76 Z\" fill=\"#000000\" fill-rule=\"nonzero\" fill-opacity=\"1\" /><path clip-path=\"url(#clip590)\" d=\"M1982.38 1243.02 L1986.64 1243.02 L1986.64 1279.04 L1982.38 1279.04 L1982.38 1243.02 Z\" fill=\"#000000\" fill-rule=\"nonzero\" fill-opacity=\"1\" /><path clip-path=\"url(#clip590)\" d=\"M2005.59 1256.1 Q2002.17 1256.1 2000.18 1258.79 Q1998.19 1261.45 1998.19 1266.1 Q1998.19 1270.75 2000.15 1273.44 Q2002.15 1276.1 2005.59 1276.1 Q2009 1276.1 2010.99 1273.42 Q2012.98 1270.73 2012.98 1266.1 Q2012.98 1261.5 2010.99 1258.81 Q2009 1256.1 2005.59 1256.1 M2005.59 1252.49 Q2011.15 1252.49 2014.32 1256.1 Q2017.49 1259.71 2017.49 1266.1 Q2017.49 1272.47 2014.32 1276.1 Q2011.15 1279.71 2005.59 1279.71 Q2000.02 1279.71 1996.84 1276.1 Q1993.7 1272.47 1993.7 1266.1 Q1993.7 1259.71 1996.84 1256.1 Q2000.02 1252.49 2005.59 1252.49 Z\" fill=\"#000000\" fill-rule=\"nonzero\" fill-opacity=\"1\" /><path clip-path=\"url(#clip590)\" d=\"M2043.21 1254.11 L2043.21 1258.09 Q2041.4 1257.1 2039.58 1256.61 Q2037.77 1256.1 2035.92 1256.1 Q2031.77 1256.1 2029.48 1258.74 Q2027.19 1261.36 2027.19 1266.1 Q2027.19 1270.85 2029.48 1273.49 Q2031.77 1276.1 2035.92 1276.1 Q2037.77 1276.1 2039.58 1275.62 Q2041.4 1275.11 2043.21 1274.11 L2043.21 1278.05 Q2041.43 1278.88 2039.51 1279.3 Q2037.61 1279.71 2035.46 1279.71 Q2029.6 1279.71 2026.15 1276.03 Q2022.7 1272.35 2022.7 1266.1 Q2022.7 1259.76 2026.17 1256.13 Q2029.67 1252.49 2035.73 1252.49 Q2037.7 1252.49 2039.58 1252.91 Q2041.45 1253.3 2043.21 1254.11 Z\" fill=\"#000000\" fill-rule=\"nonzero\" fill-opacity=\"1\" /><path clip-path=\"url(#clip590)\" d=\"M2050.62 1253.12 L2054.88 1253.12 L2054.88 1279.04 L2050.62 1279.04 L2050.62 1253.12 M2050.62 1243.02 L2054.88 1243.02 L2054.88 1248.42 L2050.62 1248.42 L2050.62 1243.02 Z\" fill=\"#000000\" fill-rule=\"nonzero\" fill-opacity=\"1\" /><path clip-path=\"url(#clip590)\" d=\"M2068 1245.75 L2068 1253.12 L2076.77 1253.12 L2076.77 1256.43 L2068 1256.43 L2068 1270.5 Q2068 1273.67 2068.86 1274.57 Q2069.74 1275.48 2072.4 1275.48 L2076.77 1275.48 L2076.77 1279.04 L2072.4 1279.04 Q2067.47 1279.04 2065.59 1277.21 Q2063.72 1275.36 2063.72 1270.5 L2063.72 1256.43 L2060.59 1256.43 L2060.59 1253.12 L2063.72 1253.12 L2063.72 1245.75 L2068 1245.75 Z\" fill=\"#000000\" fill-rule=\"nonzero\" fill-opacity=\"1\" /><path clip-path=\"url(#clip590)\" d=\"M2093.16 1281.45 Q2091.36 1286.08 2089.64 1287.49 Q2087.93 1288.9 2085.06 1288.9 L2081.66 1288.9 L2081.66 1285.34 L2084.16 1285.34 Q2085.92 1285.34 2086.89 1284.5 Q2087.86 1283.67 2089.04 1280.57 L2089.81 1278.62 L2079.32 1253.12 L2083.83 1253.12 L2091.94 1273.39 L2100.04 1253.12 L2104.55 1253.12 L2093.16 1281.45 Z\" fill=\"#000000\" fill-rule=\"nonzero\" fill-opacity=\"1\" /><path clip-path=\"url(#clip590)\" d=\"M2119.53 1279.04 L2106.33 1244.48 L2111.22 1244.48 L2122.17 1273.58 L2133.14 1244.48 L2138 1244.48 L2124.83 1279.04 L2119.53 1279.04 Z\" fill=\"#000000\" fill-rule=\"nonzero\" fill-opacity=\"1\" /><path clip-path=\"url(#clip590)\" d=\"M2161.36 1265.01 L2161.36 1267.1 L2141.77 1267.1 Q2142.05 1271.5 2144.41 1273.81 Q2146.8 1276.1 2151.03 1276.1 Q2153.49 1276.1 2155.78 1275.5 Q2158.09 1274.9 2160.36 1273.69 L2160.36 1277.72 Q2158.07 1278.69 2155.66 1279.2 Q2153.26 1279.71 2150.78 1279.71 Q2144.58 1279.71 2140.94 1276.1 Q2137.33 1272.49 2137.33 1266.33 Q2137.33 1259.97 2140.76 1256.24 Q2144.2 1252.49 2150.04 1252.49 Q2155.27 1252.49 2158.3 1255.87 Q2161.36 1259.23 2161.36 1265.01 M2157.1 1263.76 Q2157.05 1260.27 2155.13 1258.19 Q2153.23 1256.1 2150.08 1256.1 Q2146.52 1256.1 2144.37 1258.12 Q2142.24 1260.13 2141.91 1263.79 L2157.1 1263.76 Z\" fill=\"#000000\" fill-rule=\"nonzero\" fill-opacity=\"1\" /><path clip-path=\"url(#clip590)\" d=\"M2183.37 1257.1 Q2182.65 1256.68 2181.8 1256.5 Q2180.96 1256.29 2179.95 1256.29 Q2176.33 1256.29 2174.39 1258.65 Q2172.47 1260.99 2172.47 1265.38 L2172.47 1279.04 L2168.19 1279.04 L2168.19 1253.12 L2172.47 1253.12 L2172.47 1257.14 Q2173.81 1254.78 2175.96 1253.65 Q2178.12 1252.49 2181.2 1252.49 Q2181.64 1252.49 2182.17 1252.56 Q2182.7 1252.61 2183.35 1252.72 L2183.37 1257.1 Z\" fill=\"#000000\" fill-rule=\"nonzero\" fill-opacity=\"1\" /><path clip-path=\"url(#clip590)\" d=\"M2187.84 1243.02 L2192.1 1243.02 L2192.1 1279.04 L2187.84 1279.04 L2187.84 1243.02 Z\" fill=\"#000000\" fill-rule=\"nonzero\" fill-opacity=\"1\" /><path clip-path=\"url(#clip590)\" d=\"M2223.19 1265.01 L2223.19 1267.1 L2203.6 1267.1 Q2203.88 1271.5 2206.24 1273.81 Q2208.63 1276.1 2212.86 1276.1 Q2215.32 1276.1 2217.61 1275.5 Q2219.92 1274.9 2222.19 1273.69 L2222.19 1277.72 Q2219.9 1278.69 2217.49 1279.2 Q2215.08 1279.71 2212.61 1279.71 Q2206.4 1279.71 2202.77 1276.1 Q2199.16 1272.49 2199.16 1266.33 Q2199.16 1259.97 2202.58 1256.24 Q2206.03 1252.49 2211.87 1252.49 Q2217.1 1252.49 2220.13 1255.87 Q2223.19 1259.23 2223.19 1265.01 M2218.93 1263.76 Q2218.88 1260.27 2216.96 1258.19 Q2215.06 1256.1 2211.91 1256.1 Q2208.35 1256.1 2206.2 1258.12 Q2204.07 1260.13 2203.74 1263.79 L2218.93 1263.76 Z\" fill=\"#000000\" fill-rule=\"nonzero\" fill-opacity=\"1\" /><path clip-path=\"url(#clip590)\" d=\"M2234.39 1245.75 L2234.39 1253.12 L2243.16 1253.12 L2243.16 1256.43 L2234.39 1256.43 L2234.39 1270.5 Q2234.39 1273.67 2235.25 1274.57 Q2236.13 1275.48 2238.79 1275.48 L2243.16 1275.48 L2243.16 1279.04 L2238.79 1279.04 Q2233.86 1279.04 2231.98 1277.21 Q2230.11 1275.36 2230.11 1270.5 L2230.11 1256.43 L2226.98 1256.43 L2226.98 1253.12 L2230.11 1253.12 L2230.11 1245.75 L2234.39 1245.75 Z\" fill=\"#000000\" fill-rule=\"nonzero\" fill-opacity=\"1\" /><polyline clip-path=\"url(#clip590)\" style=\"stroke:#3da44d; stroke-linecap:round; stroke-linejoin:round; stroke-width:4; stroke-opacity:1; fill:none\" points=\"1761.79,1313.6 1897.71,1313.6 \"/>\n",
       "<path clip-path=\"url(#clip590)\" d=\"M1933.56 1330.88 L1920.36 1296.32 L1925.25 1296.32 L1936.2 1325.42 L1947.17 1296.32 L1952.03 1296.32 L1938.86 1330.88 L1933.56 1330.88 Z\" fill=\"#000000\" fill-rule=\"nonzero\" fill-opacity=\"1\" /><path clip-path=\"url(#clip590)\" d=\"M1975.39 1316.85 L1975.39 1318.94 L1955.8 1318.94 Q1956.08 1323.34 1958.44 1325.65 Q1960.83 1327.94 1965.06 1327.94 Q1967.52 1327.94 1969.81 1327.34 Q1972.12 1326.74 1974.39 1325.53 L1974.39 1329.56 Q1972.1 1330.53 1969.69 1331.04 Q1967.28 1331.55 1964.81 1331.55 Q1958.6 1331.55 1954.97 1327.94 Q1951.36 1324.33 1951.36 1318.17 Q1951.36 1311.81 1954.78 1308.08 Q1958.23 1304.33 1964.07 1304.33 Q1969.3 1304.33 1972.33 1307.71 Q1975.39 1311.07 1975.39 1316.85 M1971.13 1315.6 Q1971.08 1312.11 1969.16 1310.03 Q1967.26 1307.94 1964.11 1307.94 Q1960.55 1307.94 1958.4 1309.96 Q1956.27 1311.97 1955.94 1315.63 L1971.13 1315.6 Z\" fill=\"#000000\" fill-rule=\"nonzero\" fill-opacity=\"1\" /><path clip-path=\"url(#clip590)\" d=\"M1997.4 1308.94 Q1996.68 1308.52 1995.83 1308.34 Q1994.99 1308.13 1993.97 1308.13 Q1990.36 1308.13 1988.42 1310.49 Q1986.5 1312.83 1986.5 1317.22 L1986.5 1330.88 L1982.22 1330.88 L1982.22 1304.96 L1986.5 1304.96 L1986.5 1308.98 Q1987.84 1306.62 1989.99 1305.49 Q1992.15 1304.33 1995.22 1304.33 Q1995.66 1304.33 1996.2 1304.4 Q1996.73 1304.45 1997.38 1304.56 L1997.4 1308.94 Z\" fill=\"#000000\" fill-rule=\"nonzero\" fill-opacity=\"1\" /><path clip-path=\"url(#clip590)\" d=\"M2001.87 1294.86 L2006.13 1294.86 L2006.13 1330.88 L2001.87 1330.88 L2001.87 1294.86 Z\" fill=\"#000000\" fill-rule=\"nonzero\" fill-opacity=\"1\" /><path clip-path=\"url(#clip590)\" d=\"M2037.21 1316.85 L2037.21 1318.94 L2017.63 1318.94 Q2017.91 1323.34 2020.27 1325.65 Q2022.65 1327.94 2026.89 1327.94 Q2029.34 1327.94 2031.64 1327.34 Q2033.95 1326.74 2036.22 1325.53 L2036.22 1329.56 Q2033.93 1330.53 2031.52 1331.04 Q2029.11 1331.55 2026.64 1331.55 Q2020.43 1331.55 2016.8 1327.94 Q2013.19 1324.33 2013.19 1318.17 Q2013.19 1311.81 2016.61 1308.08 Q2020.06 1304.33 2025.9 1304.33 Q2031.13 1304.33 2034.16 1307.71 Q2037.21 1311.07 2037.21 1316.85 M2032.96 1315.6 Q2032.91 1312.11 2030.99 1310.03 Q2029.09 1307.94 2025.94 1307.94 Q2022.38 1307.94 2020.22 1309.96 Q2018.09 1311.97 2017.77 1315.63 L2032.96 1315.6 Z\" fill=\"#000000\" fill-rule=\"nonzero\" fill-opacity=\"1\" /><path clip-path=\"url(#clip590)\" d=\"M2048.42 1297.59 L2048.42 1304.96 L2057.19 1304.96 L2057.19 1308.27 L2048.42 1308.27 L2048.42 1322.34 Q2048.42 1325.51 2049.27 1326.41 Q2050.15 1327.32 2052.82 1327.32 L2057.19 1327.32 L2057.19 1330.88 L2052.82 1330.88 Q2047.89 1330.88 2046.01 1329.05 Q2044.14 1327.2 2044.14 1322.34 L2044.14 1308.27 L2041.01 1308.27 L2041.01 1304.96 L2044.14 1304.96 L2044.14 1297.59 L2048.42 1297.59 Z\" fill=\"#000000\" fill-rule=\"nonzero\" fill-opacity=\"1\" /><path clip-path=\"url(#clip590)\" d=\"M2062.98 1296.32 L2067.65 1296.32 L2067.65 1326.95 L2084.48 1326.95 L2084.48 1330.88 L2062.98 1330.88 L2062.98 1296.32 Z\" fill=\"#000000\" fill-rule=\"nonzero\" fill-opacity=\"1\" /><path clip-path=\"url(#clip590)\" d=\"M2110.55 1316.85 L2110.55 1318.94 L2090.96 1318.94 Q2091.24 1323.34 2093.6 1325.65 Q2095.99 1327.94 2100.22 1327.94 Q2102.68 1327.94 2104.97 1327.34 Q2107.28 1326.74 2109.55 1325.53 L2109.55 1329.56 Q2107.26 1330.53 2104.85 1331.04 Q2102.45 1331.55 2099.97 1331.55 Q2093.77 1331.55 2090.13 1327.94 Q2086.52 1324.33 2086.52 1318.17 Q2086.52 1311.81 2089.95 1308.08 Q2093.39 1304.33 2099.23 1304.33 Q2104.46 1304.33 2107.49 1307.71 Q2110.55 1311.07 2110.55 1316.85 M2106.29 1315.6 Q2106.24 1312.11 2104.32 1310.03 Q2102.42 1307.94 2099.27 1307.94 Q2095.71 1307.94 2093.56 1309.96 Q2091.43 1311.97 2091.1 1315.63 L2106.29 1315.6 Z\" fill=\"#000000\" fill-rule=\"nonzero\" fill-opacity=\"1\" /><path clip-path=\"url(#clip590)\" d=\"M2129.32 1317.85 Q2124.16 1317.85 2122.17 1319.03 Q2120.18 1320.21 2120.18 1323.06 Q2120.18 1325.33 2121.66 1326.67 Q2123.16 1327.99 2125.73 1327.99 Q2129.27 1327.99 2131.4 1325.49 Q2133.56 1322.96 2133.56 1318.8 L2133.56 1317.85 L2129.32 1317.85 M2137.82 1316.09 L2137.82 1330.88 L2133.56 1330.88 L2133.56 1326.95 Q2132.1 1329.31 2129.92 1330.44 Q2127.75 1331.55 2124.6 1331.55 Q2120.62 1331.55 2118.26 1329.33 Q2115.92 1327.09 2115.92 1323.34 Q2115.92 1318.96 2118.83 1316.74 Q2121.77 1314.52 2127.58 1314.52 L2133.56 1314.52 L2133.56 1314.1 Q2133.56 1311.16 2131.61 1309.56 Q2129.69 1307.94 2126.2 1307.94 Q2123.97 1307.94 2121.87 1308.47 Q2119.76 1309.01 2117.82 1310.07 L2117.82 1306.14 Q2120.15 1305.23 2122.35 1304.79 Q2124.55 1304.33 2126.64 1304.33 Q2132.26 1304.33 2135.04 1307.25 Q2137.82 1310.16 2137.82 1316.09 Z\" fill=\"#000000\" fill-rule=\"nonzero\" fill-opacity=\"1\" /><path clip-path=\"url(#clip590)\" d=\"M2150.71 1326.99 L2150.71 1340.74 L2146.43 1340.74 L2146.43 1304.96 L2150.71 1304.96 L2150.71 1308.89 Q2152.05 1306.58 2154.09 1305.47 Q2156.15 1304.33 2159 1304.33 Q2163.72 1304.33 2166.66 1308.08 Q2169.62 1311.83 2169.62 1317.94 Q2169.62 1324.05 2166.66 1327.8 Q2163.72 1331.55 2159 1331.55 Q2156.15 1331.55 2154.09 1330.44 Q2152.05 1329.31 2150.71 1326.99 M2165.2 1317.94 Q2165.2 1313.24 2163.26 1310.58 Q2161.33 1307.9 2157.95 1307.9 Q2154.58 1307.9 2152.63 1310.58 Q2150.71 1313.24 2150.71 1317.94 Q2150.71 1322.64 2152.63 1325.33 Q2154.58 1327.99 2157.95 1327.99 Q2161.33 1327.99 2163.26 1325.33 Q2165.2 1322.64 2165.2 1317.94 Z\" fill=\"#000000\" fill-rule=\"nonzero\" fill-opacity=\"1\" /><path clip-path=\"url(#clip590)\" d=\"M2189.81 1294.86 L2189.81 1298.4 L2185.73 1298.4 Q2183.44 1298.4 2182.54 1299.33 Q2181.66 1300.26 2181.66 1302.66 L2181.66 1304.96 L2188.67 1304.96 L2188.67 1308.27 L2181.66 1308.27 L2181.66 1330.88 L2177.38 1330.88 L2177.38 1308.27 L2173.3 1308.27 L2173.3 1304.96 L2177.38 1304.96 L2177.38 1303.15 Q2177.38 1298.82 2179.39 1296.85 Q2181.4 1294.86 2185.78 1294.86 L2189.81 1294.86 Z\" fill=\"#000000\" fill-rule=\"nonzero\" fill-opacity=\"1\" /><path clip-path=\"url(#clip590)\" d=\"M2208.39 1308.94 Q2207.68 1308.52 2206.82 1308.34 Q2205.99 1308.13 2204.97 1308.13 Q2201.36 1308.13 2199.41 1310.49 Q2197.49 1312.83 2197.49 1317.22 L2197.49 1330.88 L2193.21 1330.88 L2193.21 1304.96 L2197.49 1304.96 L2197.49 1308.98 Q2198.83 1306.62 2200.99 1305.49 Q2203.14 1304.33 2206.22 1304.33 Q2206.66 1304.33 2207.19 1304.4 Q2207.72 1304.45 2208.37 1304.56 L2208.39 1308.94 Z\" fill=\"#000000\" fill-rule=\"nonzero\" fill-opacity=\"1\" /><path clip-path=\"url(#clip590)\" d=\"M2221.87 1307.94 Q2218.44 1307.94 2216.45 1310.63 Q2214.46 1313.29 2214.46 1317.94 Q2214.46 1322.59 2216.43 1325.28 Q2218.42 1327.94 2221.87 1327.94 Q2225.27 1327.94 2227.26 1325.26 Q2229.25 1322.57 2229.25 1317.94 Q2229.25 1313.34 2227.26 1310.65 Q2225.27 1307.94 2221.87 1307.94 M2221.87 1304.33 Q2227.42 1304.33 2230.59 1307.94 Q2233.76 1311.55 2233.76 1317.94 Q2233.76 1324.31 2230.59 1327.94 Q2227.42 1331.55 2221.87 1331.55 Q2216.29 1331.55 2213.12 1327.94 Q2209.97 1324.31 2209.97 1317.94 Q2209.97 1311.55 2213.12 1307.94 Q2216.29 1304.33 2221.87 1304.33 Z\" fill=\"#000000\" fill-rule=\"nonzero\" fill-opacity=\"1\" /><path clip-path=\"url(#clip590)\" d=\"M2257.88 1317.62 Q2257.88 1312.99 2255.96 1310.44 Q2254.07 1307.9 2250.62 1307.9 Q2247.19 1307.9 2245.27 1310.44 Q2243.37 1312.99 2243.37 1317.62 Q2243.37 1322.22 2245.27 1324.77 Q2247.19 1327.32 2250.62 1327.32 Q2254.07 1327.32 2255.96 1324.77 Q2257.88 1322.22 2257.88 1317.62 M2262.14 1327.66 Q2262.14 1334.28 2259.2 1337.5 Q2256.26 1340.74 2250.2 1340.74 Q2247.95 1340.74 2245.96 1340.4 Q2243.97 1340.07 2242.1 1339.38 L2242.1 1335.23 Q2243.97 1336.25 2245.8 1336.74 Q2247.63 1337.22 2249.53 1337.22 Q2253.72 1337.22 2255.8 1335.03 Q2257.88 1332.85 2257.88 1328.43 L2257.88 1326.32 Q2256.57 1328.61 2254.51 1329.75 Q2252.45 1330.88 2249.57 1330.88 Q2244.81 1330.88 2241.89 1327.25 Q2238.97 1323.61 2238.97 1317.62 Q2238.97 1311.6 2241.89 1307.97 Q2244.81 1304.33 2249.57 1304.33 Q2252.45 1304.33 2254.51 1305.47 Q2256.57 1306.6 2257.88 1308.89 L2257.88 1304.96 L2262.14 1304.96 L2262.14 1327.66 Z\" fill=\"#000000\" fill-rule=\"nonzero\" fill-opacity=\"1\" /></svg>\n"
      ]
     },
     "execution_count": 27,
     "metadata": {},
     "output_type": "execute_result"
    }
   ],
   "source": [
    "yrange=(1e-20,1e-10)\n",
    "m0 = max(1,div(Int64(ceil((tF-t0)/dt0)),1000)) \n",
    "plot(title=\"\",xlabel=\"t \", ylabel=\"log10()\", \n",
    "     yscale=:log10, \n",
    "     #ylims=yrange,\n",
    "     xtickfont = font(8, \"Courier\"),\n",
    "     ytickfont = font(8, \"Courier\"),\n",
    "     legend=:bottomright)\n",
    "plot!(sol1_.t[2:m0:end],abs.(ΔH0_1[2:m0:end]),label=\"SofSpa10\")\n",
    "plot!(sol2_.t[2:m0:end],abs.(ΔH0_2[2:m0:end]),label=\"VelocityVerlet\")\n",
    "plot!(sol3_.t[2:m0:end],abs.(ΔH0_3[2:m0:end]),label=\"VerletLeapfrog\")"
   ]
  },
  {
   "cell_type": "code",
   "execution_count": null,
   "id": "6f067648",
   "metadata": {},
   "outputs": [],
   "source": []
  }
 ],
 "metadata": {
  "kernelspec": {
   "display_name": "Julia 1.10.7",
   "language": "julia",
   "name": "julia-1.10"
  },
  "language_info": {
   "file_extension": ".jl",
   "mimetype": "application/julia",
   "name": "julia",
   "version": "1.10.7"
  }
 },
 "nbformat": 4,
 "nbformat_minor": 5
}
