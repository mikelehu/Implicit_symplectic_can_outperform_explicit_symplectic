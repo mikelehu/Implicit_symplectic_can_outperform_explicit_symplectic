{
 "cells": [
  {
   "cell_type": "markdown",
   "id": "c03c1acf",
   "metadata": {},
   "source": [
    "# Test Flow-equations of Nbody problem"
   ]
  },
  {
   "cell_type": "code",
   "execution_count": 1,
   "id": "7168b4ff",
   "metadata": {},
   "outputs": [],
   "source": [
    "using LinearAlgebra"
   ]
  },
  {
   "cell_type": "markdown",
   "id": "f2757055",
   "metadata": {},
   "source": [
    "## Definition of the problem"
   ]
  },
  {
   "cell_type": "code",
   "execution_count": 2,
   "id": "e9dd72ea",
   "metadata": {},
   "outputs": [
    {
     "data": {
      "text/plain": [
       "flowH2Nbody! (generic function with 1 method)"
      ]
     },
     "execution_count": 2,
     "metadata": {},
     "output_type": "execute_result"
    }
   ],
   "source": [
    "PATH_ODES=\"../../ODEProblems/\"\n",
    "\n",
    "include(string(PATH_ODES,\"Initial6Body.jl\"))\n",
    "include(string(PATH_ODES,\"Nbody.jl\"))"
   ]
  },
  {
   "cell_type": "code",
   "execution_count": 3,
   "id": "2c3f4fe0",
   "metadata": {},
   "outputs": [
    {
     "name": "stdout",
     "output_type": "stream",
     "text": [
      "[\"Sun\" \"Jupiter\" \"Saturn\" \"Uranus\" \"Neptune\" \"Pluto\"]"
     ]
    },
    {
     "data": {
      "text/plain": [
       "-9.522620605966966e-12"
      ]
     },
     "execution_count": 3,
     "metadata": {},
     "output_type": "execute_result"
    }
   ],
   "source": [
    "u0, Gm, bodylist = Initial6Body(Float64)\n",
    "u0_B=BigFloat.(u0)\n",
    "Gm_B=BigFloat.(Gm)\n",
    "\n",
    "q0=u0[:,:,1]\n",
    "v0=u0[:,:,2]\n",
    "\n",
    "N = length(Gm)\n",
    "\n",
    "show(bodylist)\n",
    "E0=NbodyEnergy(u0,Gm)"
   ]
  },
  {
   "cell_type": "code",
   "execution_count": 4,
   "id": "2a38109f",
   "metadata": {},
   "outputs": [
    {
     "data": {
      "text/plain": [
       "([1.417048569677335e-18, 9.119357686204585e-20, 1.5082339679877506e-19], [1.0942040830907497e-22, -2.709864045560887e-22, 1.6237832716049163e-22])"
      ]
     },
     "execution_count": 4,
     "metadata": {},
     "output_type": "execute_result"
    }
   ],
   "source": [
    "# Testing: center of mass of the outer solar system at the origin of coordinates with zero velocity\n",
    "\n",
    "q0_ = zeros(3)\n",
    "v0_ = zeros(3)\n",
    "Gm0_ = 0.\n",
    "for i in 1:6\n",
    "    Gmi = Gm[i]\n",
    "    qi = u0[:,i,1]\n",
    "    vi = u0[:,i,2]\n",
    "    q0_ += Gmi*qi\n",
    "    v0_ += Gmi*vi\n",
    "    Gm0_ += Gmi\n",
    "end\n",
    "(q0_/Gm0_, v0_/Gm0_)"
   ]
  },
  {
   "cell_type": "markdown",
   "id": "459e9504",
   "metadata": {},
   "source": [
    "## Checking equations of the flows"
   ]
  },
  {
   "cell_type": "code",
   "execution_count": 5,
   "id": "bddcf1c4",
   "metadata": {},
   "outputs": [
    {
     "data": {
      "text/plain": [
       "0.3194536784019427"
      ]
     },
     "execution_count": 5,
     "metadata": {},
     "output_type": "execute_result"
    }
   ],
   "source": [
    "rand()"
   ]
  },
  {
   "cell_type": "code",
   "execution_count": 6,
   "id": "d1f01289",
   "metadata": {},
   "outputs": [
    {
     "name": "stdout",
     "output_type": "stream",
     "text": [
      "norm(uj1 - uj) = 0.20143103867384504\n",
      "H1(uj1, Gm) / H1(uj, Gm) - 1.0 = 0.0\n"
     ]
    }
   ],
   "source": [
    "uj=u0*rand()\n",
    "uj1=copy(uj)\n",
    "flowH1Nbody!(uj1,[],100.,Gm)\n",
    "@show(norm(uj1-uj))\n",
    "@show H1(uj1,Gm)/H1(uj,Gm)-1.;"
   ]
  },
  {
   "cell_type": "code",
   "execution_count": 7,
   "id": "47134b80",
   "metadata": {},
   "outputs": [
    {
     "name": "stdout",
     "output_type": "stream",
     "text": [
      "norm(uj1 - uj) = 0.0028331916699686566\n",
      "H2(uj1, Gm) / H2(uj, Gm) - 1.0 = 0.0\n"
     ]
    }
   ],
   "source": [
    "uj=u0*rand()\n",
    "uj1=copy(uj)\n",
    "flowH2Nbody!(uj1,[],100.,Gm)\n",
    "@show(norm(uj1-uj))\n",
    "@show H2(uj1,Gm)/H2(uj,Gm)-1.;"
   ]
  },
  {
   "cell_type": "code",
   "execution_count": null,
   "id": "c27669f5",
   "metadata": {},
   "outputs": [],
   "source": []
  }
 ],
 "metadata": {
  "kernelspec": {
   "display_name": "Julia 1.10.5",
   "language": "julia",
   "name": "julia-1.10"
  },
  "language_info": {
   "file_extension": ".jl",
   "mimetype": "application/julia",
   "name": "julia",
   "version": "1.10.5"
  }
 },
 "nbformat": 4,
 "nbformat_minor": 5
}
