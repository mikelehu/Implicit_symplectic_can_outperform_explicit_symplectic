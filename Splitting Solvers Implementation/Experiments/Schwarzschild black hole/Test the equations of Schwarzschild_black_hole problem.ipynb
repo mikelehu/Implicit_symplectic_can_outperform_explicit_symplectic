{
 "cells": [
  {
   "cell_type": "markdown",
   "id": "9eda463a",
   "metadata": {},
   "source": [
    "# Test the equations of Schwarzschild_black_hole problem"
   ]
  },
  {
   "cell_type": "code",
   "execution_count": 1,
   "id": "dcaf4cf1",
   "metadata": {},
   "outputs": [],
   "source": [
    "using LinearAlgebra"
   ]
  },
  {
   "cell_type": "markdown",
   "id": "5183b3ae",
   "metadata": {},
   "source": [
    "## Definition of the problem"
   ]
  },
  {
   "cell_type": "code",
   "execution_count": 2,
   "id": "83f3deca",
   "metadata": {},
   "outputs": [
    {
     "data": {
      "text/plain": [
       "flowH3Schwarzschild! (generic function with 1 method)"
      ]
     },
     "execution_count": 2,
     "metadata": {},
     "output_type": "execute_result"
    }
   ],
   "source": [
    "PATH_ODES=\"../../ODEProblems/\"\n",
    "\n",
    "\n",
    "#include(string(PATH_ODES,\"InitialSchwarzschild.jl\"))\n",
    "#include(string(PATH_ODES,\"SchwarzschildBH.jl\"))\n",
    "\n",
    "include(string(PATH_ODES,\"InitialSchwarzschildv2.jl\"))\n",
    "include(string(PATH_ODES,\"SchwarzschildBHv2.jl\"))"
   ]
  },
  {
   "cell_type": "markdown",
   "id": "4dc85a22",
   "metadata": {},
   "source": [
    "### Initial values"
   ]
  },
  {
   "cell_type": "code",
   "execution_count": 3,
   "id": "0f950d86",
   "metadata": {},
   "outputs": [
    {
     "data": {
      "text/plain": [
       "-0.5"
      ]
     },
     "execution_count": 3,
     "metadata": {},
     "output_type": "execute_result"
    }
   ],
   "source": [
    "float_type = Float64\n",
    "#float_type = BigFloat\n",
    "\n",
    "u0, parms = InitialSchwarzschildv2(float_type)\n",
    "\n",
    "Ham_Schwarzschildv2(u0,parms)"
   ]
  },
  {
   "cell_type": "markdown",
   "id": "578d1ad1",
   "metadata": {},
   "source": [
    "## Checking equations of the flows"
   ]
  },
  {
   "cell_type": "code",
   "execution_count": 4,
   "id": "014a16b1",
   "metadata": {},
   "outputs": [
    {
     "name": "stdout",
     "output_type": "stream",
     "text": [
      "norm(uj1 - uj) = 9.622147087414977\n",
      "H1(uj1, parms) / H1(uj, parms) - 1.0 = 0.0\n"
     ]
    }
   ],
   "source": [
    "uj=rand(4)\n",
    "uj1=copy(uj)\n",
    "flowH1Schwarzschild!(uj1,[],0.1,parms)\n",
    "@show(norm(uj1-uj))\n",
    "@show H1(uj1,parms)/H1(uj,parms)-1.;"
   ]
  },
  {
   "cell_type": "code",
   "execution_count": 6,
   "id": "92532cb7",
   "metadata": {},
   "outputs": [
    {
     "name": "stdout",
     "output_type": "stream",
     "text": [
      "norm(uj1 - uj) = 1.0467863509947202\n",
      "H2(uj1, parms) / H2(uj, parms) - 1.0 = 2.220446049250313e-16\n"
     ]
    }
   ],
   "source": [
    "uj=rand(4)\n",
    "uj1=copy(uj)\n",
    "flowH2Schwarzschild!(uj1,[],0.1,parms)\n",
    "@show(norm(uj1-uj))\n",
    "@show H2(uj1,parms)/H2(uj,parms)-1.;"
   ]
  },
  {
   "cell_type": "code",
   "execution_count": 7,
   "id": "275e066f",
   "metadata": {},
   "outputs": [
    {
     "name": "stdout",
     "output_type": "stream",
     "text": [
      "norm(uj1 - uj) = 0.22350257768584642\n",
      "H3(uj1, parms) / H3(uj, parms) - 1.0 = 0.0\n"
     ]
    }
   ],
   "source": [
    "uj=rand(4)\n",
    "uj1=copy(uj)\n",
    "flowH3Schwarzschild!(uj1,[],0.1,parms)\n",
    "@show(norm(uj1-uj))\n",
    "@show H3(uj1,parms)/H3(uj,parms)-1.;"
   ]
  },
  {
   "cell_type": "markdown",
   "id": "24d2be8f-a0e9-4686-9532-f5c10986833d",
   "metadata": {},
   "source": []
  },
  {
   "cell_type": "code",
   "execution_count": null,
   "id": "114d1c9f-b2e7-431c-a410-31e3df8bf3cb",
   "metadata": {},
   "outputs": [],
   "source": []
  }
 ],
 "metadata": {
  "kernelspec": {
   "display_name": "Julia 1.10.5",
   "language": "julia",
   "name": "julia-1.10"
  },
  "language_info": {
   "file_extension": ".jl",
   "mimetype": "application/julia",
   "name": "julia",
   "version": "1.10.5"
  }
 },
 "nbformat": 4,
 "nbformat_minor": 5
}
